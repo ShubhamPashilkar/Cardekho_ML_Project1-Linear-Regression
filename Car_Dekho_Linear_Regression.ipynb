{
  "nbformat": 4,
  "nbformat_minor": 0,
  "metadata": {
    "colab": {
      "provenance": [],
      "include_colab_link": true
    },
    "kernelspec": {
      "display_name": "Python 3",
      "name": "python3"
    }
  },
  "cells": [
    {
      "cell_type": "markdown",
      "metadata": {
        "id": "view-in-github",
        "colab_type": "text"
      },
      "source": [
        "<a href=\"https://colab.research.google.com/github/ShubhamPashilkar/Cardekho_ML_Project1-Linear-Regression/blob/main/Car_Dekho_Linear_Regression.ipynb\" target=\"_parent\"><img src=\"https://colab.research.google.com/assets/colab-badge.svg\" alt=\"Open In Colab\"/></a>"
      ]
    },
    {
      "cell_type": "markdown",
      "source": [
        "# **Price Prediction**\n",
        "( Simple Linear Regression)\n",
        "\n",
        "# **Problem Statement**\n",
        "Build a model which predicts price based on various market surveys done by an automobile consulting company(CarDekho).\n",
        "\n",
        "# **Data**\n",
        "Use the dataset given by CarDekho and analyse the relationship between various input features and price using a simple linear regression model.\n",
        "\n",
        "In this notebook, we'll build a linear regression model to predict Price using  appropriate predictor variables."
      ],
      "metadata": {
        "id": "gqDyOymBVv8_"
      }
    },
    {
      "cell_type": "markdown",
      "metadata": {
        "id": "MBU85-sSYS5A"
      },
      "source": [
        "# **Reading and Understanding the Data**\n",
        "\n"
      ]
    },
    {
      "cell_type": "code",
      "metadata": {
        "id": "p0gkUooyR6Ix"
      },
      "source": [
        "# Import the numpy and pandas package\n",
        "import numpy as np\n",
        "import pandas as pd\n",
        "from numpy import math\n",
        "\n",
        "# Data Visualisation\n",
        "import seaborn as sns\n",
        "import matplotlib.pyplot as plt\n",
        "\n",
        "# Supress Warnings\n",
        "import warnings\n",
        "warnings.filterwarnings('ignore')"
      ],
      "execution_count": 1,
      "outputs": []
    },
    {
      "cell_type": "code",
      "metadata": {
        "colab": {
          "base_uri": "https://localhost:8080/"
        },
        "id": "1EzCTS6zSK3J",
        "outputId": "f7db5ad3-9389-40de-e3bd-d0baf27d89e7"
      },
      "source": [
        "#Connect with Drive\n",
        "\n",
        "from google.colab import drive\n",
        "drive.mount('/content/drive')"
      ],
      "execution_count": 2,
      "outputs": [
        {
          "output_type": "stream",
          "name": "stdout",
          "text": [
            "Mounted at /content/drive\n"
          ]
        }
      ]
    },
    {
      "cell_type": "code",
      "metadata": {
        "id": "wwz-h3w1SRrU"
      },
      "source": [
        "# reading Dataset\n",
        "\n",
        "cardekho = pd.read_csv('/content/drive/MyDrive/CAR DETAILS FROM CAR DEKHO.csv')"
      ],
      "execution_count": 3,
      "outputs": []
    },
    {
      "cell_type": "markdown",
      "source": [
        "# **Data Inspection**"
      ],
      "metadata": {
        "id": "0HrfJTBHYNRp"
      }
    },
    {
      "cell_type": "code",
      "metadata": {
        "colab": {
          "base_uri": "https://localhost:8080/",
          "height": 206
        },
        "id": "Syro0QDSVxBB",
        "outputId": "881f312d-0197-446c-9b74-702f471ceba4"
      },
      "source": [
        "# First look\n",
        "cardekho.head()"
      ],
      "execution_count": null,
      "outputs": [
        {
          "output_type": "execute_result",
          "data": {
            "text/plain": [
              "                       name  year  selling_price  km_driven    fuel  \\\n",
              "0             Maruti 800 AC  2007          60000      70000  Petrol   \n",
              "1  Maruti Wagon R LXI Minor  2007         135000      50000  Petrol   \n",
              "2      Hyundai Verna 1.6 SX  2012         600000     100000  Diesel   \n",
              "3    Datsun RediGO T Option  2017         250000      46000  Petrol   \n",
              "4     Honda Amaze VX i-DTEC  2014         450000     141000  Diesel   \n",
              "\n",
              "  seller_type transmission         owner  \n",
              "0  Individual       Manual   First Owner  \n",
              "1  Individual       Manual   First Owner  \n",
              "2  Individual       Manual   First Owner  \n",
              "3  Individual       Manual   First Owner  \n",
              "4  Individual       Manual  Second Owner  "
            ],
            "text/html": [
              "\n",
              "  <div id=\"df-b0edf2dc-45a2-4835-8467-90b5d7eea2ed\">\n",
              "    <div class=\"colab-df-container\">\n",
              "      <div>\n",
              "<style scoped>\n",
              "    .dataframe tbody tr th:only-of-type {\n",
              "        vertical-align: middle;\n",
              "    }\n",
              "\n",
              "    .dataframe tbody tr th {\n",
              "        vertical-align: top;\n",
              "    }\n",
              "\n",
              "    .dataframe thead th {\n",
              "        text-align: right;\n",
              "    }\n",
              "</style>\n",
              "<table border=\"1\" class=\"dataframe\">\n",
              "  <thead>\n",
              "    <tr style=\"text-align: right;\">\n",
              "      <th></th>\n",
              "      <th>name</th>\n",
              "      <th>year</th>\n",
              "      <th>selling_price</th>\n",
              "      <th>km_driven</th>\n",
              "      <th>fuel</th>\n",
              "      <th>seller_type</th>\n",
              "      <th>transmission</th>\n",
              "      <th>owner</th>\n",
              "    </tr>\n",
              "  </thead>\n",
              "  <tbody>\n",
              "    <tr>\n",
              "      <th>0</th>\n",
              "      <td>Maruti 800 AC</td>\n",
              "      <td>2007</td>\n",
              "      <td>60000</td>\n",
              "      <td>70000</td>\n",
              "      <td>Petrol</td>\n",
              "      <td>Individual</td>\n",
              "      <td>Manual</td>\n",
              "      <td>First Owner</td>\n",
              "    </tr>\n",
              "    <tr>\n",
              "      <th>1</th>\n",
              "      <td>Maruti Wagon R LXI Minor</td>\n",
              "      <td>2007</td>\n",
              "      <td>135000</td>\n",
              "      <td>50000</td>\n",
              "      <td>Petrol</td>\n",
              "      <td>Individual</td>\n",
              "      <td>Manual</td>\n",
              "      <td>First Owner</td>\n",
              "    </tr>\n",
              "    <tr>\n",
              "      <th>2</th>\n",
              "      <td>Hyundai Verna 1.6 SX</td>\n",
              "      <td>2012</td>\n",
              "      <td>600000</td>\n",
              "      <td>100000</td>\n",
              "      <td>Diesel</td>\n",
              "      <td>Individual</td>\n",
              "      <td>Manual</td>\n",
              "      <td>First Owner</td>\n",
              "    </tr>\n",
              "    <tr>\n",
              "      <th>3</th>\n",
              "      <td>Datsun RediGO T Option</td>\n",
              "      <td>2017</td>\n",
              "      <td>250000</td>\n",
              "      <td>46000</td>\n",
              "      <td>Petrol</td>\n",
              "      <td>Individual</td>\n",
              "      <td>Manual</td>\n",
              "      <td>First Owner</td>\n",
              "    </tr>\n",
              "    <tr>\n",
              "      <th>4</th>\n",
              "      <td>Honda Amaze VX i-DTEC</td>\n",
              "      <td>2014</td>\n",
              "      <td>450000</td>\n",
              "      <td>141000</td>\n",
              "      <td>Diesel</td>\n",
              "      <td>Individual</td>\n",
              "      <td>Manual</td>\n",
              "      <td>Second Owner</td>\n",
              "    </tr>\n",
              "  </tbody>\n",
              "</table>\n",
              "</div>\n",
              "      <button class=\"colab-df-convert\" onclick=\"convertToInteractive('df-b0edf2dc-45a2-4835-8467-90b5d7eea2ed')\"\n",
              "              title=\"Convert this dataframe to an interactive table.\"\n",
              "              style=\"display:none;\">\n",
              "        \n",
              "  <svg xmlns=\"http://www.w3.org/2000/svg\" height=\"24px\"viewBox=\"0 0 24 24\"\n",
              "       width=\"24px\">\n",
              "    <path d=\"M0 0h24v24H0V0z\" fill=\"none\"/>\n",
              "    <path d=\"M18.56 5.44l.94 2.06.94-2.06 2.06-.94-2.06-.94-.94-2.06-.94 2.06-2.06.94zm-11 1L8.5 8.5l.94-2.06 2.06-.94-2.06-.94L8.5 2.5l-.94 2.06-2.06.94zm10 10l.94 2.06.94-2.06 2.06-.94-2.06-.94-.94-2.06-.94 2.06-2.06.94z\"/><path d=\"M17.41 7.96l-1.37-1.37c-.4-.4-.92-.59-1.43-.59-.52 0-1.04.2-1.43.59L10.3 9.45l-7.72 7.72c-.78.78-.78 2.05 0 2.83L4 21.41c.39.39.9.59 1.41.59.51 0 1.02-.2 1.41-.59l7.78-7.78 2.81-2.81c.8-.78.8-2.07 0-2.86zM5.41 20L4 18.59l7.72-7.72 1.47 1.35L5.41 20z\"/>\n",
              "  </svg>\n",
              "      </button>\n",
              "      \n",
              "  <style>\n",
              "    .colab-df-container {\n",
              "      display:flex;\n",
              "      flex-wrap:wrap;\n",
              "      gap: 12px;\n",
              "    }\n",
              "\n",
              "    .colab-df-convert {\n",
              "      background-color: #E8F0FE;\n",
              "      border: none;\n",
              "      border-radius: 50%;\n",
              "      cursor: pointer;\n",
              "      display: none;\n",
              "      fill: #1967D2;\n",
              "      height: 32px;\n",
              "      padding: 0 0 0 0;\n",
              "      width: 32px;\n",
              "    }\n",
              "\n",
              "    .colab-df-convert:hover {\n",
              "      background-color: #E2EBFA;\n",
              "      box-shadow: 0px 1px 2px rgba(60, 64, 67, 0.3), 0px 1px 3px 1px rgba(60, 64, 67, 0.15);\n",
              "      fill: #174EA6;\n",
              "    }\n",
              "\n",
              "    [theme=dark] .colab-df-convert {\n",
              "      background-color: #3B4455;\n",
              "      fill: #D2E3FC;\n",
              "    }\n",
              "\n",
              "    [theme=dark] .colab-df-convert:hover {\n",
              "      background-color: #434B5C;\n",
              "      box-shadow: 0px 1px 3px 1px rgba(0, 0, 0, 0.15);\n",
              "      filter: drop-shadow(0px 1px 2px rgba(0, 0, 0, 0.3));\n",
              "      fill: #FFFFFF;\n",
              "    }\n",
              "  </style>\n",
              "\n",
              "      <script>\n",
              "        const buttonEl =\n",
              "          document.querySelector('#df-b0edf2dc-45a2-4835-8467-90b5d7eea2ed button.colab-df-convert');\n",
              "        buttonEl.style.display =\n",
              "          google.colab.kernel.accessAllowed ? 'block' : 'none';\n",
              "\n",
              "        async function convertToInteractive(key) {\n",
              "          const element = document.querySelector('#df-b0edf2dc-45a2-4835-8467-90b5d7eea2ed');\n",
              "          const dataTable =\n",
              "            await google.colab.kernel.invokeFunction('convertToInteractive',\n",
              "                                                     [key], {});\n",
              "          if (!dataTable) return;\n",
              "\n",
              "          const docLinkHtml = 'Like what you see? Visit the ' +\n",
              "            '<a target=\"_blank\" href=https://colab.research.google.com/notebooks/data_table.ipynb>data table notebook</a>'\n",
              "            + ' to learn more about interactive tables.';\n",
              "          element.innerHTML = '';\n",
              "          dataTable['output_type'] = 'display_data';\n",
              "          await google.colab.output.renderOutput(dataTable, element);\n",
              "          const docLink = document.createElement('div');\n",
              "          docLink.innerHTML = docLinkHtml;\n",
              "          element.appendChild(docLink);\n",
              "        }\n",
              "      </script>\n",
              "    </div>\n",
              "  </div>\n",
              "  "
            ]
          },
          "metadata": {},
          "execution_count": 5
        }
      ]
    },
    {
      "cell_type": "code",
      "metadata": {
        "colab": {
          "base_uri": "https://localhost:8080/"
        },
        "id": "AoYro_xUWd6G",
        "outputId": "f3df59c9-e64c-4454-dd67-41688c9d11f4"
      },
      "source": [
        "cardekho.info()"
      ],
      "execution_count": null,
      "outputs": [
        {
          "output_type": "stream",
          "name": "stdout",
          "text": [
            "<class 'pandas.core.frame.DataFrame'>\n",
            "RangeIndex: 4340 entries, 0 to 4339\n",
            "Data columns (total 8 columns):\n",
            " #   Column         Non-Null Count  Dtype \n",
            "---  ------         --------------  ----- \n",
            " 0   name           4340 non-null   object\n",
            " 1   year           4340 non-null   int64 \n",
            " 2   selling_price  4340 non-null   int64 \n",
            " 3   km_driven      4340 non-null   int64 \n",
            " 4   fuel           4340 non-null   object\n",
            " 5   seller_type    4340 non-null   object\n",
            " 6   transmission   4340 non-null   object\n",
            " 7   owner          4340 non-null   object\n",
            "dtypes: int64(3), object(5)\n",
            "memory usage: 271.4+ KB\n"
          ]
        }
      ]
    },
    {
      "cell_type": "code",
      "metadata": {
        "colab": {
          "base_uri": "https://localhost:8080/",
          "height": 394
        },
        "id": "DoCeg3_2W6yz",
        "outputId": "8ea09c97-697a-4c44-8cfe-88d058b2671f"
      },
      "source": [
        "cardekho.describe(include='all')"
      ],
      "execution_count": null,
      "outputs": [
        {
          "output_type": "execute_result",
          "data": {
            "text/plain": [
              "                          name         year  selling_price      km_driven  \\\n",
              "count                     4340  4340.000000   4.340000e+03    4340.000000   \n",
              "unique                    1491          NaN            NaN            NaN   \n",
              "top     Maruti Swift Dzire VDI          NaN            NaN            NaN   \n",
              "freq                        69          NaN            NaN            NaN   \n",
              "mean                       NaN  2013.090783   5.041273e+05   66215.777419   \n",
              "std                        NaN     4.215344   5.785487e+05   46644.102194   \n",
              "min                        NaN  1992.000000   2.000000e+04       1.000000   \n",
              "25%                        NaN  2011.000000   2.087498e+05   35000.000000   \n",
              "50%                        NaN  2014.000000   3.500000e+05   60000.000000   \n",
              "75%                        NaN  2016.000000   6.000000e+05   90000.000000   \n",
              "max                        NaN  2020.000000   8.900000e+06  806599.000000   \n",
              "\n",
              "          fuel seller_type transmission        owner  \n",
              "count     4340        4340         4340         4340  \n",
              "unique       5           3            2            5  \n",
              "top     Diesel  Individual       Manual  First Owner  \n",
              "freq      2153        3244         3892         2832  \n",
              "mean       NaN         NaN          NaN          NaN  \n",
              "std        NaN         NaN          NaN          NaN  \n",
              "min        NaN         NaN          NaN          NaN  \n",
              "25%        NaN         NaN          NaN          NaN  \n",
              "50%        NaN         NaN          NaN          NaN  \n",
              "75%        NaN         NaN          NaN          NaN  \n",
              "max        NaN         NaN          NaN          NaN  "
            ],
            "text/html": [
              "\n",
              "  <div id=\"df-8ed62b08-b40e-40cb-b351-040f559c5c1d\">\n",
              "    <div class=\"colab-df-container\">\n",
              "      <div>\n",
              "<style scoped>\n",
              "    .dataframe tbody tr th:only-of-type {\n",
              "        vertical-align: middle;\n",
              "    }\n",
              "\n",
              "    .dataframe tbody tr th {\n",
              "        vertical-align: top;\n",
              "    }\n",
              "\n",
              "    .dataframe thead th {\n",
              "        text-align: right;\n",
              "    }\n",
              "</style>\n",
              "<table border=\"1\" class=\"dataframe\">\n",
              "  <thead>\n",
              "    <tr style=\"text-align: right;\">\n",
              "      <th></th>\n",
              "      <th>name</th>\n",
              "      <th>year</th>\n",
              "      <th>selling_price</th>\n",
              "      <th>km_driven</th>\n",
              "      <th>fuel</th>\n",
              "      <th>seller_type</th>\n",
              "      <th>transmission</th>\n",
              "      <th>owner</th>\n",
              "    </tr>\n",
              "  </thead>\n",
              "  <tbody>\n",
              "    <tr>\n",
              "      <th>count</th>\n",
              "      <td>4340</td>\n",
              "      <td>4340.000000</td>\n",
              "      <td>4.340000e+03</td>\n",
              "      <td>4340.000000</td>\n",
              "      <td>4340</td>\n",
              "      <td>4340</td>\n",
              "      <td>4340</td>\n",
              "      <td>4340</td>\n",
              "    </tr>\n",
              "    <tr>\n",
              "      <th>unique</th>\n",
              "      <td>1491</td>\n",
              "      <td>NaN</td>\n",
              "      <td>NaN</td>\n",
              "      <td>NaN</td>\n",
              "      <td>5</td>\n",
              "      <td>3</td>\n",
              "      <td>2</td>\n",
              "      <td>5</td>\n",
              "    </tr>\n",
              "    <tr>\n",
              "      <th>top</th>\n",
              "      <td>Maruti Swift Dzire VDI</td>\n",
              "      <td>NaN</td>\n",
              "      <td>NaN</td>\n",
              "      <td>NaN</td>\n",
              "      <td>Diesel</td>\n",
              "      <td>Individual</td>\n",
              "      <td>Manual</td>\n",
              "      <td>First Owner</td>\n",
              "    </tr>\n",
              "    <tr>\n",
              "      <th>freq</th>\n",
              "      <td>69</td>\n",
              "      <td>NaN</td>\n",
              "      <td>NaN</td>\n",
              "      <td>NaN</td>\n",
              "      <td>2153</td>\n",
              "      <td>3244</td>\n",
              "      <td>3892</td>\n",
              "      <td>2832</td>\n",
              "    </tr>\n",
              "    <tr>\n",
              "      <th>mean</th>\n",
              "      <td>NaN</td>\n",
              "      <td>2013.090783</td>\n",
              "      <td>5.041273e+05</td>\n",
              "      <td>66215.777419</td>\n",
              "      <td>NaN</td>\n",
              "      <td>NaN</td>\n",
              "      <td>NaN</td>\n",
              "      <td>NaN</td>\n",
              "    </tr>\n",
              "    <tr>\n",
              "      <th>std</th>\n",
              "      <td>NaN</td>\n",
              "      <td>4.215344</td>\n",
              "      <td>5.785487e+05</td>\n",
              "      <td>46644.102194</td>\n",
              "      <td>NaN</td>\n",
              "      <td>NaN</td>\n",
              "      <td>NaN</td>\n",
              "      <td>NaN</td>\n",
              "    </tr>\n",
              "    <tr>\n",
              "      <th>min</th>\n",
              "      <td>NaN</td>\n",
              "      <td>1992.000000</td>\n",
              "      <td>2.000000e+04</td>\n",
              "      <td>1.000000</td>\n",
              "      <td>NaN</td>\n",
              "      <td>NaN</td>\n",
              "      <td>NaN</td>\n",
              "      <td>NaN</td>\n",
              "    </tr>\n",
              "    <tr>\n",
              "      <th>25%</th>\n",
              "      <td>NaN</td>\n",
              "      <td>2011.000000</td>\n",
              "      <td>2.087498e+05</td>\n",
              "      <td>35000.000000</td>\n",
              "      <td>NaN</td>\n",
              "      <td>NaN</td>\n",
              "      <td>NaN</td>\n",
              "      <td>NaN</td>\n",
              "    </tr>\n",
              "    <tr>\n",
              "      <th>50%</th>\n",
              "      <td>NaN</td>\n",
              "      <td>2014.000000</td>\n",
              "      <td>3.500000e+05</td>\n",
              "      <td>60000.000000</td>\n",
              "      <td>NaN</td>\n",
              "      <td>NaN</td>\n",
              "      <td>NaN</td>\n",
              "      <td>NaN</td>\n",
              "    </tr>\n",
              "    <tr>\n",
              "      <th>75%</th>\n",
              "      <td>NaN</td>\n",
              "      <td>2016.000000</td>\n",
              "      <td>6.000000e+05</td>\n",
              "      <td>90000.000000</td>\n",
              "      <td>NaN</td>\n",
              "      <td>NaN</td>\n",
              "      <td>NaN</td>\n",
              "      <td>NaN</td>\n",
              "    </tr>\n",
              "    <tr>\n",
              "      <th>max</th>\n",
              "      <td>NaN</td>\n",
              "      <td>2020.000000</td>\n",
              "      <td>8.900000e+06</td>\n",
              "      <td>806599.000000</td>\n",
              "      <td>NaN</td>\n",
              "      <td>NaN</td>\n",
              "      <td>NaN</td>\n",
              "      <td>NaN</td>\n",
              "    </tr>\n",
              "  </tbody>\n",
              "</table>\n",
              "</div>\n",
              "      <button class=\"colab-df-convert\" onclick=\"convertToInteractive('df-8ed62b08-b40e-40cb-b351-040f559c5c1d')\"\n",
              "              title=\"Convert this dataframe to an interactive table.\"\n",
              "              style=\"display:none;\">\n",
              "        \n",
              "  <svg xmlns=\"http://www.w3.org/2000/svg\" height=\"24px\"viewBox=\"0 0 24 24\"\n",
              "       width=\"24px\">\n",
              "    <path d=\"M0 0h24v24H0V0z\" fill=\"none\"/>\n",
              "    <path d=\"M18.56 5.44l.94 2.06.94-2.06 2.06-.94-2.06-.94-.94-2.06-.94 2.06-2.06.94zm-11 1L8.5 8.5l.94-2.06 2.06-.94-2.06-.94L8.5 2.5l-.94 2.06-2.06.94zm10 10l.94 2.06.94-2.06 2.06-.94-2.06-.94-.94-2.06-.94 2.06-2.06.94z\"/><path d=\"M17.41 7.96l-1.37-1.37c-.4-.4-.92-.59-1.43-.59-.52 0-1.04.2-1.43.59L10.3 9.45l-7.72 7.72c-.78.78-.78 2.05 0 2.83L4 21.41c.39.39.9.59 1.41.59.51 0 1.02-.2 1.41-.59l7.78-7.78 2.81-2.81c.8-.78.8-2.07 0-2.86zM5.41 20L4 18.59l7.72-7.72 1.47 1.35L5.41 20z\"/>\n",
              "  </svg>\n",
              "      </button>\n",
              "      \n",
              "  <style>\n",
              "    .colab-df-container {\n",
              "      display:flex;\n",
              "      flex-wrap:wrap;\n",
              "      gap: 12px;\n",
              "    }\n",
              "\n",
              "    .colab-df-convert {\n",
              "      background-color: #E8F0FE;\n",
              "      border: none;\n",
              "      border-radius: 50%;\n",
              "      cursor: pointer;\n",
              "      display: none;\n",
              "      fill: #1967D2;\n",
              "      height: 32px;\n",
              "      padding: 0 0 0 0;\n",
              "      width: 32px;\n",
              "    }\n",
              "\n",
              "    .colab-df-convert:hover {\n",
              "      background-color: #E2EBFA;\n",
              "      box-shadow: 0px 1px 2px rgba(60, 64, 67, 0.3), 0px 1px 3px 1px rgba(60, 64, 67, 0.15);\n",
              "      fill: #174EA6;\n",
              "    }\n",
              "\n",
              "    [theme=dark] .colab-df-convert {\n",
              "      background-color: #3B4455;\n",
              "      fill: #D2E3FC;\n",
              "    }\n",
              "\n",
              "    [theme=dark] .colab-df-convert:hover {\n",
              "      background-color: #434B5C;\n",
              "      box-shadow: 0px 1px 3px 1px rgba(0, 0, 0, 0.15);\n",
              "      filter: drop-shadow(0px 1px 2px rgba(0, 0, 0, 0.3));\n",
              "      fill: #FFFFFF;\n",
              "    }\n",
              "  </style>\n",
              "\n",
              "      <script>\n",
              "        const buttonEl =\n",
              "          document.querySelector('#df-8ed62b08-b40e-40cb-b351-040f559c5c1d button.colab-df-convert');\n",
              "        buttonEl.style.display =\n",
              "          google.colab.kernel.accessAllowed ? 'block' : 'none';\n",
              "\n",
              "        async function convertToInteractive(key) {\n",
              "          const element = document.querySelector('#df-8ed62b08-b40e-40cb-b351-040f559c5c1d');\n",
              "          const dataTable =\n",
              "            await google.colab.kernel.invokeFunction('convertToInteractive',\n",
              "                                                     [key], {});\n",
              "          if (!dataTable) return;\n",
              "\n",
              "          const docLinkHtml = 'Like what you see? Visit the ' +\n",
              "            '<a target=\"_blank\" href=https://colab.research.google.com/notebooks/data_table.ipynb>data table notebook</a>'\n",
              "            + ' to learn more about interactive tables.';\n",
              "          element.innerHTML = '';\n",
              "          dataTable['output_type'] = 'display_data';\n",
              "          await google.colab.output.renderOutput(dataTable, element);\n",
              "          const docLink = document.createElement('div');\n",
              "          docLink.innerHTML = docLinkHtml;\n",
              "          element.appendChild(docLink);\n",
              "        }\n",
              "      </script>\n",
              "    </div>\n",
              "  </div>\n",
              "  "
            ]
          },
          "metadata": {},
          "execution_count": 7
        }
      ]
    },
    {
      "cell_type": "markdown",
      "source": [
        "# **Data Cleaning**"
      ],
      "metadata": {
        "id": "AotZ8ZC9Y7Fq"
      }
    },
    {
      "cell_type": "code",
      "metadata": {
        "colab": {
          "base_uri": "https://localhost:8080/"
        },
        "id": "0NLzcmjBYGFo",
        "outputId": "5f1cc116-42ac-4975-9fad-4e8dd93392ca"
      },
      "source": [
        "# duplicate\n",
        "cardekho.duplicated().value_counts()"
      ],
      "execution_count": 24,
      "outputs": [
        {
          "output_type": "execute_result",
          "data": {
            "text/plain": [
              "False    4138\n",
              "dtype: int64"
            ]
          },
          "metadata": {},
          "execution_count": 24
        }
      ]
    },
    {
      "cell_type": "markdown",
      "metadata": {
        "id": "tjGEVCsqZXiB"
      },
      "source": [
        "As we can see we have some duplicate record in our dataset and we need to drop that record from our dataset. As duplicate record doesn't give any further information about anything which will be usefull for our model as we have same recored in our dataset."
      ]
    },
    {
      "cell_type": "code",
      "metadata": {
        "id": "AjxeE2dbZ6g0"
      },
      "source": [
        "cardekho.drop_duplicates(keep='first', inplace=True)\n",
        "\n",
        "cardekho.reset_index(inplace=True)\n"
      ],
      "execution_count": null,
      "outputs": []
    },
    {
      "cell_type": "code",
      "metadata": {
        "colab": {
          "base_uri": "https://localhost:8080/"
        },
        "id": "QukilkcsaHX9",
        "outputId": "cad8640b-7ba4-4068-fe43-09ce79748aea"
      },
      "source": [
        "cardekho.info()"
      ],
      "execution_count": null,
      "outputs": [
        {
          "output_type": "stream",
          "name": "stdout",
          "text": [
            "<class 'pandas.core.frame.DataFrame'>\n",
            "RangeIndex: 3577 entries, 0 to 3576\n",
            "Data columns (total 9 columns):\n",
            " #   Column         Non-Null Count  Dtype \n",
            "---  ------         --------------  ----- \n",
            " 0   index          3577 non-null   int64 \n",
            " 1   name           3577 non-null   object\n",
            " 2   year           3577 non-null   int64 \n",
            " 3   selling_price  3577 non-null   int64 \n",
            " 4   km_driven      3577 non-null   int64 \n",
            " 5   fuel           3577 non-null   object\n",
            " 6   seller_type    3577 non-null   object\n",
            " 7   transmission   3577 non-null   object\n",
            " 8   owner          3577 non-null   object\n",
            "dtypes: int64(4), object(5)\n",
            "memory usage: 251.6+ KB\n"
          ]
        }
      ]
    },
    {
      "cell_type": "code",
      "metadata": {
        "colab": {
          "base_uri": "https://localhost:8080/"
        },
        "id": "WQ5aJKlUYmF4",
        "outputId": "76887985-3330-4e5a-edbf-f96eb7a33e41"
      },
      "source": [
        "cardekho.columns"
      ],
      "execution_count": 29,
      "outputs": [
        {
          "output_type": "execute_result",
          "data": {
            "text/plain": [
              "Index(['name', 'year', 'selling_price', 'km_driven', 'fuel', 'seller_type',\n",
              "       'transmission', 'owner', 'company', 'Average_Selling_Price',\n",
              "       'Company_Category', 'Car Age'],\n",
              "      dtype='object')"
            ]
          },
          "metadata": {},
          "execution_count": 29
        }
      ]
    },
    {
      "cell_type": "code",
      "source": [
        "cardekho= cardekho.drop(['level_0','index'], axis=1)"
      ],
      "metadata": {
        "id": "9aMyI8y5Esh4"
      },
      "execution_count": 28,
      "outputs": []
    },
    {
      "cell_type": "code",
      "metadata": {
        "colab": {
          "base_uri": "https://localhost:8080/",
          "height": 206
        },
        "id": "PWJs8trodv3-",
        "outputId": "c001bb89-0aef-4b81-fca7-91cc0e2e7450"
      },
      "source": [
        "cardekho.head()"
      ],
      "execution_count": null,
      "outputs": [
        {
          "output_type": "execute_result",
          "data": {
            "text/plain": [
              "   index                      name  year  selling_price  km_driven    fuel  \\\n",
              "0      0             Maruti 800 AC  2007          60000      70000  Petrol   \n",
              "1      1  Maruti Wagon R LXI Minor  2007         135000      50000  Petrol   \n",
              "2      2      Hyundai Verna 1.6 SX  2012         600000     100000  Diesel   \n",
              "3      3    Datsun RediGO T Option  2017         250000      46000  Petrol   \n",
              "4      4     Honda Amaze VX i-DTEC  2014         450000     141000  Diesel   \n",
              "\n",
              "  seller_type transmission         owner  \n",
              "0  Individual       Manual   First Owner  \n",
              "1  Individual       Manual   First Owner  \n",
              "2  Individual       Manual   First Owner  \n",
              "3  Individual       Manual   First Owner  \n",
              "4  Individual       Manual  Second Owner  "
            ],
            "text/html": [
              "\n",
              "  <div id=\"df-4205d28c-db17-4a22-a2d0-d816305a6cd4\">\n",
              "    <div class=\"colab-df-container\">\n",
              "      <div>\n",
              "<style scoped>\n",
              "    .dataframe tbody tr th:only-of-type {\n",
              "        vertical-align: middle;\n",
              "    }\n",
              "\n",
              "    .dataframe tbody tr th {\n",
              "        vertical-align: top;\n",
              "    }\n",
              "\n",
              "    .dataframe thead th {\n",
              "        text-align: right;\n",
              "    }\n",
              "</style>\n",
              "<table border=\"1\" class=\"dataframe\">\n",
              "  <thead>\n",
              "    <tr style=\"text-align: right;\">\n",
              "      <th></th>\n",
              "      <th>index</th>\n",
              "      <th>name</th>\n",
              "      <th>year</th>\n",
              "      <th>selling_price</th>\n",
              "      <th>km_driven</th>\n",
              "      <th>fuel</th>\n",
              "      <th>seller_type</th>\n",
              "      <th>transmission</th>\n",
              "      <th>owner</th>\n",
              "    </tr>\n",
              "  </thead>\n",
              "  <tbody>\n",
              "    <tr>\n",
              "      <th>0</th>\n",
              "      <td>0</td>\n",
              "      <td>Maruti 800 AC</td>\n",
              "      <td>2007</td>\n",
              "      <td>60000</td>\n",
              "      <td>70000</td>\n",
              "      <td>Petrol</td>\n",
              "      <td>Individual</td>\n",
              "      <td>Manual</td>\n",
              "      <td>First Owner</td>\n",
              "    </tr>\n",
              "    <tr>\n",
              "      <th>1</th>\n",
              "      <td>1</td>\n",
              "      <td>Maruti Wagon R LXI Minor</td>\n",
              "      <td>2007</td>\n",
              "      <td>135000</td>\n",
              "      <td>50000</td>\n",
              "      <td>Petrol</td>\n",
              "      <td>Individual</td>\n",
              "      <td>Manual</td>\n",
              "      <td>First Owner</td>\n",
              "    </tr>\n",
              "    <tr>\n",
              "      <th>2</th>\n",
              "      <td>2</td>\n",
              "      <td>Hyundai Verna 1.6 SX</td>\n",
              "      <td>2012</td>\n",
              "      <td>600000</td>\n",
              "      <td>100000</td>\n",
              "      <td>Diesel</td>\n",
              "      <td>Individual</td>\n",
              "      <td>Manual</td>\n",
              "      <td>First Owner</td>\n",
              "    </tr>\n",
              "    <tr>\n",
              "      <th>3</th>\n",
              "      <td>3</td>\n",
              "      <td>Datsun RediGO T Option</td>\n",
              "      <td>2017</td>\n",
              "      <td>250000</td>\n",
              "      <td>46000</td>\n",
              "      <td>Petrol</td>\n",
              "      <td>Individual</td>\n",
              "      <td>Manual</td>\n",
              "      <td>First Owner</td>\n",
              "    </tr>\n",
              "    <tr>\n",
              "      <th>4</th>\n",
              "      <td>4</td>\n",
              "      <td>Honda Amaze VX i-DTEC</td>\n",
              "      <td>2014</td>\n",
              "      <td>450000</td>\n",
              "      <td>141000</td>\n",
              "      <td>Diesel</td>\n",
              "      <td>Individual</td>\n",
              "      <td>Manual</td>\n",
              "      <td>Second Owner</td>\n",
              "    </tr>\n",
              "  </tbody>\n",
              "</table>\n",
              "</div>\n",
              "      <button class=\"colab-df-convert\" onclick=\"convertToInteractive('df-4205d28c-db17-4a22-a2d0-d816305a6cd4')\"\n",
              "              title=\"Convert this dataframe to an interactive table.\"\n",
              "              style=\"display:none;\">\n",
              "        \n",
              "  <svg xmlns=\"http://www.w3.org/2000/svg\" height=\"24px\"viewBox=\"0 0 24 24\"\n",
              "       width=\"24px\">\n",
              "    <path d=\"M0 0h24v24H0V0z\" fill=\"none\"/>\n",
              "    <path d=\"M18.56 5.44l.94 2.06.94-2.06 2.06-.94-2.06-.94-.94-2.06-.94 2.06-2.06.94zm-11 1L8.5 8.5l.94-2.06 2.06-.94-2.06-.94L8.5 2.5l-.94 2.06-2.06.94zm10 10l.94 2.06.94-2.06 2.06-.94-2.06-.94-.94-2.06-.94 2.06-2.06.94z\"/><path d=\"M17.41 7.96l-1.37-1.37c-.4-.4-.92-.59-1.43-.59-.52 0-1.04.2-1.43.59L10.3 9.45l-7.72 7.72c-.78.78-.78 2.05 0 2.83L4 21.41c.39.39.9.59 1.41.59.51 0 1.02-.2 1.41-.59l7.78-7.78 2.81-2.81c.8-.78.8-2.07 0-2.86zM5.41 20L4 18.59l7.72-7.72 1.47 1.35L5.41 20z\"/>\n",
              "  </svg>\n",
              "      </button>\n",
              "      \n",
              "  <style>\n",
              "    .colab-df-container {\n",
              "      display:flex;\n",
              "      flex-wrap:wrap;\n",
              "      gap: 12px;\n",
              "    }\n",
              "\n",
              "    .colab-df-convert {\n",
              "      background-color: #E8F0FE;\n",
              "      border: none;\n",
              "      border-radius: 50%;\n",
              "      cursor: pointer;\n",
              "      display: none;\n",
              "      fill: #1967D2;\n",
              "      height: 32px;\n",
              "      padding: 0 0 0 0;\n",
              "      width: 32px;\n",
              "    }\n",
              "\n",
              "    .colab-df-convert:hover {\n",
              "      background-color: #E2EBFA;\n",
              "      box-shadow: 0px 1px 2px rgba(60, 64, 67, 0.3), 0px 1px 3px 1px rgba(60, 64, 67, 0.15);\n",
              "      fill: #174EA6;\n",
              "    }\n",
              "\n",
              "    [theme=dark] .colab-df-convert {\n",
              "      background-color: #3B4455;\n",
              "      fill: #D2E3FC;\n",
              "    }\n",
              "\n",
              "    [theme=dark] .colab-df-convert:hover {\n",
              "      background-color: #434B5C;\n",
              "      box-shadow: 0px 1px 3px 1px rgba(0, 0, 0, 0.15);\n",
              "      filter: drop-shadow(0px 1px 2px rgba(0, 0, 0, 0.3));\n",
              "      fill: #FFFFFF;\n",
              "    }\n",
              "  </style>\n",
              "\n",
              "      <script>\n",
              "        const buttonEl =\n",
              "          document.querySelector('#df-4205d28c-db17-4a22-a2d0-d816305a6cd4 button.colab-df-convert');\n",
              "        buttonEl.style.display =\n",
              "          google.colab.kernel.accessAllowed ? 'block' : 'none';\n",
              "\n",
              "        async function convertToInteractive(key) {\n",
              "          const element = document.querySelector('#df-4205d28c-db17-4a22-a2d0-d816305a6cd4');\n",
              "          const dataTable =\n",
              "            await google.colab.kernel.invokeFunction('convertToInteractive',\n",
              "                                                     [key], {});\n",
              "          if (!dataTable) return;\n",
              "\n",
              "          const docLinkHtml = 'Like what you see? Visit the ' +\n",
              "            '<a target=\"_blank\" href=https://colab.research.google.com/notebooks/data_table.ipynb>data table notebook</a>'\n",
              "            + ' to learn more about interactive tables.';\n",
              "          element.innerHTML = '';\n",
              "          dataTable['output_type'] = 'display_data';\n",
              "          await google.colab.output.renderOutput(dataTable, element);\n",
              "          const docLink = document.createElement('div');\n",
              "          docLink.innerHTML = docLinkHtml;\n",
              "          element.appendChild(docLink);\n",
              "        }\n",
              "      </script>\n",
              "    </div>\n",
              "  </div>\n",
              "  "
            ]
          },
          "metadata": {},
          "execution_count": 15
        }
      ]
    },
    {
      "cell_type": "markdown",
      "metadata": {
        "id": "Ru8s3rN3ovsp"
      },
      "source": [
        "We have a good analysis for our numerical columns which gives us the count, mean and other values to have a clear idea of the values in our dataset. \n",
        "<br>So, Lets start our EDA with Numerical data."
      ]
    },
    {
      "cell_type": "markdown",
      "metadata": {
        "id": "rqGNDdhucpSI"
      },
      "source": [
        "# **Exploratory Data Analysis**\n",
        "\n",
        "---\n",
        "\n"
      ]
    },
    {
      "cell_type": "code",
      "metadata": {
        "colab": {
          "base_uri": "https://localhost:8080/",
          "height": 526
        },
        "id": "uao1epspdG_k",
        "outputId": "53a745b5-60a8-456c-9c69-91e8eb2111a5"
      },
      "source": [
        "plt.figure(figsize=(10,8))\n",
        "sns.distplot((cardekho['selling_price']),color='b')\n",
        "plt.xlabel('Selling Price')"
      ],
      "execution_count": null,
      "outputs": [
        {
          "output_type": "execute_result",
          "data": {
            "text/plain": [
              "Text(0.5, 0, 'Selling Price')"
            ]
          },
          "metadata": {},
          "execution_count": 18
        },
        {
          "output_type": "display_data",
          "data": {
            "text/plain": [
              "<Figure size 720x576 with 1 Axes>"
            ],
            "image/png": "[encoded data removed]"
          },
          "metadata": {
            "needs_background": "light"
          }
        }
      ]
    },
    {
      "cell_type": "markdown",
      "metadata": {
        "id": "B_Jj1sbiWdvc"
      },
      "source": [
        "From the above graph we can see that as our price is moving towards y-axis but we couldn't get any better visualziation with these type of graph.\n",
        "<br>So, its better to take log of the dependent variable to draw the graph to have better visualization."
      ]
    },
    {
      "cell_type": "code",
      "metadata": {
        "colab": {
          "base_uri": "https://localhost:8080/",
          "height": 515
        },
        "id": "S6sz4ZMHbSiK",
        "outputId": "f89e37ce-9fd3-4d39-ce78-38b79bf2db1f"
      },
      "source": [
        "plt.figure(figsize=(10,8))\n",
        "sns.distplot(np.log10(cardekho['selling_price']),color='b')\n",
        "plt.xlabel('Selling Price')"
      ],
      "execution_count": null,
      "outputs": [
        {
          "output_type": "execute_result",
          "data": {
            "text/plain": [
              "Text(0.5, 0, 'Selling Price')"
            ]
          },
          "metadata": {},
          "execution_count": 19
        },
        {
          "output_type": "display_data",
          "data": {
            "text/plain": [
              "<Figure size 720x576 with 1 Axes>"
            ],
            "image/png": "[encoded data removed]"
          },
          "metadata": {
            "needs_background": "light"
          }
        }
      ]
    },
    {
      "cell_type": "markdown",
      "metadata": {
        "id": "bg74frkBdsOG"
      },
      "source": [
        "Now we see that this graph looks like a normal distribution than above one."
      ]
    },
    {
      "cell_type": "code",
      "metadata": {
        "id": "dlQytaHLh9iP",
        "colab": {
          "base_uri": "https://localhost:8080/"
        },
        "outputId": "37bea05b-a69d-4343-b9c1-ba86648203ed"
      },
      "source": [
        "Numeric_features = cardekho.describe().columns\n",
        "Numeric_features"
      ],
      "execution_count": 30,
      "outputs": [
        {
          "output_type": "execute_result",
          "data": {
            "text/plain": [
              "Index(['year', 'selling_price', 'km_driven', 'Average_Selling_Price',\n",
              "       'Company_Category', 'Car Age'],\n",
              "      dtype='object')"
            ]
          },
          "metadata": {},
          "execution_count": 30
        }
      ]
    },
    {
      "cell_type": "markdown",
      "metadata": {
        "id": "Ql1sTHaPjkqf"
      },
      "source": [
        "<br>Now let's use scatter plot between independent and dependent variables to determine their relationship."
      ]
    },
    {
      "cell_type": "code",
      "metadata": {
        "colab": {
          "base_uri": "https://localhost:8080/",
          "height": 1000
        },
        "id": "pFc_V66uj61F",
        "outputId": "8cd3d38b-a554-47a9-d45f-21d1f7afeccf"
      },
      "source": [
        "for col in Numeric_features:\n",
        "   fig = plt.figure(figsize=(10,8))\n",
        "   ax = fig.gca()\n",
        "   feature = cardekho[col]\n",
        "   label = cardekho['selling_price']\n",
        "   correlation = feature.corr(label)\n",
        "   plt.scatter(x=feature, y=label)\n",
        "   plt.xlabel(col)\n",
        "   plt.ylabel('Selling Price')\n",
        "   ax.set_title('Selling Price ' + col + '- correlation: ' + str(correlation))\n",
        "   z = np.polyfit(cardekho[col], cardekho['selling_price'], 1)\n",
        "   y_hat = np.poly1d(z)(cardekho[col])\n",
        " \n",
        "   plt.plot(cardekho[col], y_hat, \"r--\", lw=1)\n",
        " \n",
        "plt.show()"
      ],
      "execution_count": null,
      "outputs": [
        {
          "output_type": "display_data",
          "data": {
            "text/plain": [
              "<Figure size 720x576 with 1 Axes>"
            ],
            "image/png": "[encoded data removed]"
          },
          "metadata": {
            "needs_background": "light"
          }
        },
        {
          "output_type": "display_data",
          "data": {
            "text/plain": [
              "<Figure size 720x576 with 1 Axes>"
            ],
            "image/png": "[encoded data removed]"
          },
          "metadata": {
            "needs_background": "light"
          }
        },
        {
          "output_type": "display_data",
          "data": {
            "text/plain": [
              "<Figure size 720x576 with 1 Axes>"
            ],
            "image/png": "[encoded data removed]"
          },
          "metadata": {
            "needs_background": "light"
          }
        },
        {
          "output_type": "display_data",
          "data": {
            "text/plain": [
              "<Figure size 720x576 with 1 Axes>"
            ],
            "image/png": "[encoded data removed]"
          },
          "metadata": {
            "needs_background": "light"
          }
        }
      ]
    },
    {
      "cell_type": "markdown",
      "metadata": {
        "id": "NjXkb0r9klP0"
      },
      "source": [
        "From above we can see that most of the car have driven less the 200000 km and for the Year column we can keep the data for last 15 year from which we can make a good model."
      ]
    },
    {
      "cell_type": "markdown",
      "metadata": {
        "id": "sJQtrb6VlUmV"
      },
      "source": [
        "# **Outlier Treatment**\n",
        "\n",
        "**Let's try to remove outlier(Unwanted or Extra which makes our dataset quiet unwell) from our dataset.**\n",
        "\n",
        "---\n",
        "Let's keep the data only for last 15 year that is between 2005 to 2020. and KM_driven is less then 200000.\n"
      ]
    },
    {
      "cell_type": "code",
      "metadata": {
        "id": "4djALL35mFDG"
      },
      "source": [
        "cardekho= cardekho[cardekho['year'] >= 2005]\n",
        "\n",
        "cardekho= cardekho[cardekho['km_driven'] <= 200000]\n",
        "\n",
        "cardekho.reset_index(inplace=True)"
      ],
      "execution_count": 31,
      "outputs": []
    },
    {
      "cell_type": "code",
      "metadata": {
        "colab": {
          "base_uri": "https://localhost:8080/",
          "height": 206
        },
        "id": "JwDs9Jyo3QJf",
        "outputId": "1698ec93-9335-448f-8d54-cbab558f85a3"
      },
      "source": [
        "cardekho.head(5)"
      ],
      "execution_count": null,
      "outputs": [
        {
          "output_type": "execute_result",
          "data": {
            "text/plain": [
              "                       name  year  selling_price  km_driven    fuel  \\\n",
              "0             Maruti 800 AC  2007          60000      70000  Petrol   \n",
              "1  Maruti Wagon R LXI Minor  2007         135000      50000  Petrol   \n",
              "2      Hyundai Verna 1.6 SX  2012         600000     100000  Diesel   \n",
              "3    Datsun RediGO T Option  2017         250000      46000  Petrol   \n",
              "4     Honda Amaze VX i-DTEC  2014         450000     141000  Diesel   \n",
              "\n",
              "  seller_type transmission         owner  Car Age  \n",
              "0  Individual       Manual   First Owner       13  \n",
              "1  Individual       Manual   First Owner       13  \n",
              "2  Individual       Manual   First Owner        8  \n",
              "3  Individual       Manual   First Owner        3  \n",
              "4  Individual       Manual  Second Owner        6  "
            ],
            "text/html": [
              "\n",
              "  <div id=\"df-1cd21fd8-5986-4ef5-a5c9-3d0c5c0e7893\">\n",
              "    <div class=\"colab-df-container\">\n",
              "      <div>\n",
              "<style scoped>\n",
              "    .dataframe tbody tr th:only-of-type {\n",
              "        vertical-align: middle;\n",
              "    }\n",
              "\n",
              "    .dataframe tbody tr th {\n",
              "        vertical-align: top;\n",
              "    }\n",
              "\n",
              "    .dataframe thead th {\n",
              "        text-align: right;\n",
              "    }\n",
              "</style>\n",
              "<table border=\"1\" class=\"dataframe\">\n",
              "  <thead>\n",
              "    <tr style=\"text-align: right;\">\n",
              "      <th></th>\n",
              "      <th>name</th>\n",
              "      <th>year</th>\n",
              "      <th>selling_price</th>\n",
              "      <th>km_driven</th>\n",
              "      <th>fuel</th>\n",
              "      <th>seller_type</th>\n",
              "      <th>transmission</th>\n",
              "      <th>owner</th>\n",
              "      <th>Car Age</th>\n",
              "    </tr>\n",
              "  </thead>\n",
              "  <tbody>\n",
              "    <tr>\n",
              "      <th>0</th>\n",
              "      <td>Maruti 800 AC</td>\n",
              "      <td>2007</td>\n",
              "      <td>60000</td>\n",
              "      <td>70000</td>\n",
              "      <td>Petrol</td>\n",
              "      <td>Individual</td>\n",
              "      <td>Manual</td>\n",
              "      <td>First Owner</td>\n",
              "      <td>13</td>\n",
              "    </tr>\n",
              "    <tr>\n",
              "      <th>1</th>\n",
              "      <td>Maruti Wagon R LXI Minor</td>\n",
              "      <td>2007</td>\n",
              "      <td>135000</td>\n",
              "      <td>50000</td>\n",
              "      <td>Petrol</td>\n",
              "      <td>Individual</td>\n",
              "      <td>Manual</td>\n",
              "      <td>First Owner</td>\n",
              "      <td>13</td>\n",
              "    </tr>\n",
              "    <tr>\n",
              "      <th>2</th>\n",
              "      <td>Hyundai Verna 1.6 SX</td>\n",
              "      <td>2012</td>\n",
              "      <td>600000</td>\n",
              "      <td>100000</td>\n",
              "      <td>Diesel</td>\n",
              "      <td>Individual</td>\n",
              "      <td>Manual</td>\n",
              "      <td>First Owner</td>\n",
              "      <td>8</td>\n",
              "    </tr>\n",
              "    <tr>\n",
              "      <th>3</th>\n",
              "      <td>Datsun RediGO T Option</td>\n",
              "      <td>2017</td>\n",
              "      <td>250000</td>\n",
              "      <td>46000</td>\n",
              "      <td>Petrol</td>\n",
              "      <td>Individual</td>\n",
              "      <td>Manual</td>\n",
              "      <td>First Owner</td>\n",
              "      <td>3</td>\n",
              "    </tr>\n",
              "    <tr>\n",
              "      <th>4</th>\n",
              "      <td>Honda Amaze VX i-DTEC</td>\n",
              "      <td>2014</td>\n",
              "      <td>450000</td>\n",
              "      <td>141000</td>\n",
              "      <td>Diesel</td>\n",
              "      <td>Individual</td>\n",
              "      <td>Manual</td>\n",
              "      <td>Second Owner</td>\n",
              "      <td>6</td>\n",
              "    </tr>\n",
              "  </tbody>\n",
              "</table>\n",
              "</div>\n",
              "      <button class=\"colab-df-convert\" onclick=\"convertToInteractive('df-1cd21fd8-5986-4ef5-a5c9-3d0c5c0e7893')\"\n",
              "              title=\"Convert this dataframe to an interactive table.\"\n",
              "              style=\"display:none;\">\n",
              "        \n",
              "  <svg xmlns=\"http://www.w3.org/2000/svg\" height=\"24px\"viewBox=\"0 0 24 24\"\n",
              "       width=\"24px\">\n",
              "    <path d=\"M0 0h24v24H0V0z\" fill=\"none\"/>\n",
              "    <path d=\"M18.56 5.44l.94 2.06.94-2.06 2.06-.94-2.06-.94-.94-2.06-.94 2.06-2.06.94zm-11 1L8.5 8.5l.94-2.06 2.06-.94-2.06-.94L8.5 2.5l-.94 2.06-2.06.94zm10 10l.94 2.06.94-2.06 2.06-.94-2.06-.94-.94-2.06-.94 2.06-2.06.94z\"/><path d=\"M17.41 7.96l-1.37-1.37c-.4-.4-.92-.59-1.43-.59-.52 0-1.04.2-1.43.59L10.3 9.45l-7.72 7.72c-.78.78-.78 2.05 0 2.83L4 21.41c.39.39.9.59 1.41.59.51 0 1.02-.2 1.41-.59l7.78-7.78 2.81-2.81c.8-.78.8-2.07 0-2.86zM5.41 20L4 18.59l7.72-7.72 1.47 1.35L5.41 20z\"/>\n",
              "  </svg>\n",
              "      </button>\n",
              "      \n",
              "  <style>\n",
              "    .colab-df-container {\n",
              "      display:flex;\n",
              "      flex-wrap:wrap;\n",
              "      gap: 12px;\n",
              "    }\n",
              "\n",
              "    .colab-df-convert {\n",
              "      background-color: #E8F0FE;\n",
              "      border: none;\n",
              "      border-radius: 50%;\n",
              "      cursor: pointer;\n",
              "      display: none;\n",
              "      fill: #1967D2;\n",
              "      height: 32px;\n",
              "      padding: 0 0 0 0;\n",
              "      width: 32px;\n",
              "    }\n",
              "\n",
              "    .colab-df-convert:hover {\n",
              "      background-color: #E2EBFA;\n",
              "      box-shadow: 0px 1px 2px rgba(60, 64, 67, 0.3), 0px 1px 3px 1px rgba(60, 64, 67, 0.15);\n",
              "      fill: #174EA6;\n",
              "    }\n",
              "\n",
              "    [theme=dark] .colab-df-convert {\n",
              "      background-color: #3B4455;\n",
              "      fill: #D2E3FC;\n",
              "    }\n",
              "\n",
              "    [theme=dark] .colab-df-convert:hover {\n",
              "      background-color: #434B5C;\n",
              "      box-shadow: 0px 1px 3px 1px rgba(0, 0, 0, 0.15);\n",
              "      filter: drop-shadow(0px 1px 2px rgba(0, 0, 0, 0.3));\n",
              "      fill: #FFFFFF;\n",
              "    }\n",
              "  </style>\n",
              "\n",
              "      <script>\n",
              "        const buttonEl =\n",
              "          document.querySelector('#df-1cd21fd8-5986-4ef5-a5c9-3d0c5c0e7893 button.colab-df-convert');\n",
              "        buttonEl.style.display =\n",
              "          google.colab.kernel.accessAllowed ? 'block' : 'none';\n",
              "\n",
              "        async function convertToInteractive(key) {\n",
              "          const element = document.querySelector('#df-1cd21fd8-5986-4ef5-a5c9-3d0c5c0e7893');\n",
              "          const dataTable =\n",
              "            await google.colab.kernel.invokeFunction('convertToInteractive',\n",
              "                                                     [key], {});\n",
              "          if (!dataTable) return;\n",
              "\n",
              "          const docLinkHtml = 'Like what you see? Visit the ' +\n",
              "            '<a target=\"_blank\" href=https://colab.research.google.com/notebooks/data_table.ipynb>data table notebook</a>'\n",
              "            + ' to learn more about interactive tables.';\n",
              "          element.innerHTML = '';\n",
              "          dataTable['output_type'] = 'display_data';\n",
              "          await google.colab.output.renderOutput(dataTable, element);\n",
              "          const docLink = document.createElement('div');\n",
              "          docLink.innerHTML = docLinkHtml;\n",
              "          element.appendChild(docLink);\n",
              "        }\n",
              "      </script>\n",
              "    </div>\n",
              "  </div>\n",
              "  "
            ]
          },
          "metadata": {},
          "execution_count": 53
        }
      ]
    },
    {
      "cell_type": "markdown",
      "metadata": {
        "id": "n5RhMyjLn_ZQ"
      },
      "source": [
        "Let's plot one more time scatter plot to see the difference."
      ]
    },
    {
      "cell_type": "code",
      "metadata": {
        "colab": {
          "base_uri": "https://localhost:8080/",
          "height": 1000
        },
        "id": "AV2OT0mhn5_w",
        "outputId": "7a2d7aca-0591-4c36-a2ba-d9afed168b8e"
      },
      "source": [
        "for col in Numeric_features:\n",
        "   fig = plt.figure(figsize=(9, 6))\n",
        "   ax = fig.gca()\n",
        "   feature = cardekho[col]\n",
        "   label = cardekho['selling_price']\n",
        "   correlation = feature.corr(label)\n",
        "   plt.scatter(x=feature, y=label)\n",
        "   plt.xlabel(col)\n",
        "   plt.ylabel('Selling Price')\n",
        "   ax.set_title('Selling Price ' + col + '- correlation: ' + str(correlation))\n",
        "   z = np.polyfit(cardekho[col], cardekho['selling_price'], 1)\n",
        "   y_hat = np.poly1d(z)(cardekho[col])\n",
        " \n",
        "   plt.plot(cardekho[col], y_hat, \"r--\", lw=1)\n",
        " \n",
        "plt.show()\n"
      ],
      "execution_count": null,
      "outputs": [
        {
          "output_type": "display_data",
          "data": {
            "text/plain": [
              "<Figure size 648x432 with 1 Axes>"
            ],
            "image/png": "[encoded data removed]"
          },
          "metadata": {
            "needs_background": "light"
          }
        },
        {
          "output_type": "display_data",
          "data": {
            "text/plain": [
              "<Figure size 648x432 with 1 Axes>"
            ],
            "image/png": "[encoded data removed]"
          },
          "metadata": {
            "needs_background": "light"
          }
        },
        {
          "output_type": "display_data",
          "data": {
            "text/plain": [
              "<Figure size 648x432 with 1 Axes>"
            ],
            "image/png": "[encoded data removed]"
          },
          "metadata": {
            "needs_background": "light"
          }
        },
        {
          "output_type": "display_data",
          "data": {
            "text/plain": [
              "<Figure size 648x432 with 1 Axes>"
            ],
            "image/png": "[encoded data removed]"
          },
          "metadata": {
            "needs_background": "light"
          }
        }
      ]
    },
    {
      "cell_type": "markdown",
      "metadata": {
        "id": "0vZL5xLbkqVp"
      },
      "source": [
        "After removing outlier we are getting our scatter plot in a quiet well manner and now we can find out the relation between them.\n",
        "<br>Here we cay say that:\n",
        "* If the KM_driven is less then price will be high for the car.\n",
        "* If the car is too old then it will be relativily cheap then latest one."
      ]
    },
    {
      "cell_type": "markdown",
      "metadata": {
        "id": "NiqU4t_Ck2it"
      },
      "source": [
        "Now let's try to  find and remove the multicollinearity from our dataset and also find some correlation between numerical data.\n"
      ]
    },
    {
      "cell_type": "code",
      "metadata": {
        "id": "l-Zp-77ip_E6"
      },
      "source": [
        "#Removing multicollinear\n",
        "#find age of car using the year\n",
        "\n",
        "cardekho['Car Age']= 2020 - cardekho['year']"
      ],
      "execution_count": 32,
      "outputs": []
    },
    {
      "cell_type": "code",
      "metadata": {
        "colab": {
          "base_uri": "https://localhost:8080/",
          "height": 441
        },
        "id": "532gx5nmoLZF",
        "outputId": "57c3b9d5-f051-45a1-c3cf-7c2619e8cda4"
      },
      "source": [
        "# Correlation\n",
        "plt.figure(figsize=(8,5))\n",
        "correlation = cardekho.corr()\n",
        "sns.heatmap(abs(correlation), annot=True, cmap='coolwarm')"
      ],
      "execution_count": 22,
      "outputs": [
        {
          "output_type": "execute_result",
          "data": {
            "text/plain": [
              "<matplotlib.axes._subplots.AxesSubplot at 0x7ff0f0b95a90>"
            ]
          },
          "metadata": {},
          "execution_count": 22
        },
        {
          "output_type": "display_data",
          "data": {
            "text/plain": [
              "<Figure size 576x360 with 2 Axes>"
            ],
            "image/png": "[encoded data removed]"
          },
          "metadata": {
            "needs_background": "light"
          }
        }
      ]
    },
    {
      "cell_type": "markdown",
      "metadata": {
        "id": "4a8sfruA4aBC"
      },
      "source": [
        "From above It's clear that car price Car Age and Year is have same strong relation(1) i.e. they can provide same info.\n",
        "<br> So we can remove year column from our dataset.\n",
        "<br> KM_driven has an average relation so we can keep that variable for our model."
      ]
    },
    {
      "cell_type": "code",
      "metadata": {
        "id": "0nxdsFQRq21R"
      },
      "source": [
        "#Multicollinearity\n",
        "\n",
        "from statsmodels.stats.outliers_influence import variance_inflation_factor\n",
        "def calc_vif(X):\n",
        " \n",
        "   # Calculating VIF\n",
        "   vif = pd.DataFrame()\n",
        "   vif[\"variables\"] = X.columns\n",
        "   vif[\"VIF\"] = [variance_inflation_factor(X.values, i) for i in range(X.shape[1])]\n",
        " \n",
        "   return(vif)"
      ],
      "execution_count": 5,
      "outputs": []
    },
    {
      "cell_type": "code",
      "metadata": {
        "colab": {
          "base_uri": "https://localhost:8080/",
          "height": 175
        },
        "id": "iYes41QbrAZs",
        "outputId": "80bb3193-ef40-48b6-bdbd-4d51dbcab10d"
      },
      "source": [
        "calc_vif(cardekho[[i for i in cardekho.describe().columns if i not in ['year','selling_price']]])"
      ],
      "execution_count": 20,
      "outputs": [
        {
          "output_type": "execute_result",
          "data": {
            "text/plain": [
              "               variables       VIF\n",
              "0                  index  2.494595\n",
              "1              km_driven  2.533812\n",
              "2  Average_Selling_Price  4.005889\n",
              "3       Company_Category  3.597396"
            ],
            "text/html": [
              "\n",
              "  <div id=\"df-3b439509-6d93-4916-9c72-119cabfbb43e\">\n",
              "    <div class=\"colab-df-container\">\n",
              "      <div>\n",
              "<style scoped>\n",
              "    .dataframe tbody tr th:only-of-type {\n",
              "        vertical-align: middle;\n",
              "    }\n",
              "\n",
              "    .dataframe tbody tr th {\n",
              "        vertical-align: top;\n",
              "    }\n",
              "\n",
              "    .dataframe thead th {\n",
              "        text-align: right;\n",
              "    }\n",
              "</style>\n",
              "<table border=\"1\" class=\"dataframe\">\n",
              "  <thead>\n",
              "    <tr style=\"text-align: right;\">\n",
              "      <th></th>\n",
              "      <th>variables</th>\n",
              "      <th>VIF</th>\n",
              "    </tr>\n",
              "  </thead>\n",
              "  <tbody>\n",
              "    <tr>\n",
              "      <th>0</th>\n",
              "      <td>index</td>\n",
              "      <td>2.494595</td>\n",
              "    </tr>\n",
              "    <tr>\n",
              "      <th>1</th>\n",
              "      <td>km_driven</td>\n",
              "      <td>2.533812</td>\n",
              "    </tr>\n",
              "    <tr>\n",
              "      <th>2</th>\n",
              "      <td>Average_Selling_Price</td>\n",
              "      <td>4.005889</td>\n",
              "    </tr>\n",
              "    <tr>\n",
              "      <th>3</th>\n",
              "      <td>Company_Category</td>\n",
              "      <td>3.597396</td>\n",
              "    </tr>\n",
              "  </tbody>\n",
              "</table>\n",
              "</div>\n",
              "      <button class=\"colab-df-convert\" onclick=\"convertToInteractive('df-3b439509-6d93-4916-9c72-119cabfbb43e')\"\n",
              "              title=\"Convert this dataframe to an interactive table.\"\n",
              "              style=\"display:none;\">\n",
              "        \n",
              "  <svg xmlns=\"http://www.w3.org/2000/svg\" height=\"24px\"viewBox=\"0 0 24 24\"\n",
              "       width=\"24px\">\n",
              "    <path d=\"M0 0h24v24H0V0z\" fill=\"none\"/>\n",
              "    <path d=\"M18.56 5.44l.94 2.06.94-2.06 2.06-.94-2.06-.94-.94-2.06-.94 2.06-2.06.94zm-11 1L8.5 8.5l.94-2.06 2.06-.94-2.06-.94L8.5 2.5l-.94 2.06-2.06.94zm10 10l.94 2.06.94-2.06 2.06-.94-2.06-.94-.94-2.06-.94 2.06-2.06.94z\"/><path d=\"M17.41 7.96l-1.37-1.37c-.4-.4-.92-.59-1.43-.59-.52 0-1.04.2-1.43.59L10.3 9.45l-7.72 7.72c-.78.78-.78 2.05 0 2.83L4 21.41c.39.39.9.59 1.41.59.51 0 1.02-.2 1.41-.59l7.78-7.78 2.81-2.81c.8-.78.8-2.07 0-2.86zM5.41 20L4 18.59l7.72-7.72 1.47 1.35L5.41 20z\"/>\n",
              "  </svg>\n",
              "      </button>\n",
              "      \n",
              "  <style>\n",
              "    .colab-df-container {\n",
              "      display:flex;\n",
              "      flex-wrap:wrap;\n",
              "      gap: 12px;\n",
              "    }\n",
              "\n",
              "    .colab-df-convert {\n",
              "      background-color: #E8F0FE;\n",
              "      border: none;\n",
              "      border-radius: 50%;\n",
              "      cursor: pointer;\n",
              "      display: none;\n",
              "      fill: #1967D2;\n",
              "      height: 32px;\n",
              "      padding: 0 0 0 0;\n",
              "      width: 32px;\n",
              "    }\n",
              "\n",
              "    .colab-df-convert:hover {\n",
              "      background-color: #E2EBFA;\n",
              "      box-shadow: 0px 1px 2px rgba(60, 64, 67, 0.3), 0px 1px 3px 1px rgba(60, 64, 67, 0.15);\n",
              "      fill: #174EA6;\n",
              "    }\n",
              "\n",
              "    [theme=dark] .colab-df-convert {\n",
              "      background-color: #3B4455;\n",
              "      fill: #D2E3FC;\n",
              "    }\n",
              "\n",
              "    [theme=dark] .colab-df-convert:hover {\n",
              "      background-color: #434B5C;\n",
              "      box-shadow: 0px 1px 3px 1px rgba(0, 0, 0, 0.15);\n",
              "      filter: drop-shadow(0px 1px 2px rgba(0, 0, 0, 0.3));\n",
              "      fill: #FFFFFF;\n",
              "    }\n",
              "  </style>\n",
              "\n",
              "      <script>\n",
              "        const buttonEl =\n",
              "          document.querySelector('#df-3b439509-6d93-4916-9c72-119cabfbb43e button.colab-df-convert');\n",
              "        buttonEl.style.display =\n",
              "          google.colab.kernel.accessAllowed ? 'block' : 'none';\n",
              "\n",
              "        async function convertToInteractive(key) {\n",
              "          const element = document.querySelector('#df-3b439509-6d93-4916-9c72-119cabfbb43e');\n",
              "          const dataTable =\n",
              "            await google.colab.kernel.invokeFunction('convertToInteractive',\n",
              "                                                     [key], {});\n",
              "          if (!dataTable) return;\n",
              "\n",
              "          const docLinkHtml = 'Like what you see? Visit the ' +\n",
              "            '<a target=\"_blank\" href=https://colab.research.google.com/notebooks/data_table.ipynb>data table notebook</a>'\n",
              "            + ' to learn more about interactive tables.';\n",
              "          element.innerHTML = '';\n",
              "          dataTable['output_type'] = 'display_data';\n",
              "          await google.colab.output.renderOutput(dataTable, element);\n",
              "          const docLink = document.createElement('div');\n",
              "          docLink.innerHTML = docLinkHtml;\n",
              "          element.appendChild(docLink);\n",
              "        }\n",
              "      </script>\n",
              "    </div>\n",
              "  </div>\n",
              "  "
            ]
          },
          "metadata": {},
          "execution_count": 20
        }
      ]
    },
    {
      "cell_type": "markdown",
      "metadata": {
        "id": "RrmCT38XleQU"
      },
      "source": [
        "The VIF we are getting is good to perform our linear regression."
      ]
    },
    {
      "cell_type": "code",
      "metadata": {
        "id": "elMwp9RZrSt4"
      },
      "source": [
        "numerical_features = ['km_driven','Car Age']"
      ],
      "execution_count": 33,
      "outputs": []
    },
    {
      "cell_type": "code",
      "metadata": {
        "colab": {
          "base_uri": "https://localhost:8080/",
          "height": 206
        },
        "id": "ELBbYbD3sDdQ",
        "outputId": "71dc6144-7025-4c58-92de-ec847afd7c62"
      },
      "source": [
        "cardekho.head()"
      ],
      "execution_count": null,
      "outputs": [
        {
          "output_type": "execute_result",
          "data": {
            "text/plain": [
              "                       name  year  selling_price  km_driven    fuel  \\\n",
              "0             Maruti 800 AC  2007          60000      70000  Petrol   \n",
              "1  Maruti Wagon R LXI Minor  2007         135000      50000  Petrol   \n",
              "2      Hyundai Verna 1.6 SX  2012         600000     100000  Diesel   \n",
              "3    Datsun RediGO T Option  2017         250000      46000  Petrol   \n",
              "4     Honda Amaze VX i-DTEC  2014         450000     141000  Diesel   \n",
              "\n",
              "  seller_type transmission         owner  Car Age  \n",
              "0  Individual       Manual   First Owner       13  \n",
              "1  Individual       Manual   First Owner       13  \n",
              "2  Individual       Manual   First Owner        8  \n",
              "3  Individual       Manual   First Owner        3  \n",
              "4  Individual       Manual  Second Owner        6  "
            ],
            "text/html": [
              "\n",
              "  <div id=\"df-596ce2f3-aefe-49b8-a602-e500dc8790b6\">\n",
              "    <div class=\"colab-df-container\">\n",
              "      <div>\n",
              "<style scoped>\n",
              "    .dataframe tbody tr th:only-of-type {\n",
              "        vertical-align: middle;\n",
              "    }\n",
              "\n",
              "    .dataframe tbody tr th {\n",
              "        vertical-align: top;\n",
              "    }\n",
              "\n",
              "    .dataframe thead th {\n",
              "        text-align: right;\n",
              "    }\n",
              "</style>\n",
              "<table border=\"1\" class=\"dataframe\">\n",
              "  <thead>\n",
              "    <tr style=\"text-align: right;\">\n",
              "      <th></th>\n",
              "      <th>name</th>\n",
              "      <th>year</th>\n",
              "      <th>selling_price</th>\n",
              "      <th>km_driven</th>\n",
              "      <th>fuel</th>\n",
              "      <th>seller_type</th>\n",
              "      <th>transmission</th>\n",
              "      <th>owner</th>\n",
              "      <th>Car Age</th>\n",
              "    </tr>\n",
              "  </thead>\n",
              "  <tbody>\n",
              "    <tr>\n",
              "      <th>0</th>\n",
              "      <td>Maruti 800 AC</td>\n",
              "      <td>2007</td>\n",
              "      <td>60000</td>\n",
              "      <td>70000</td>\n",
              "      <td>Petrol</td>\n",
              "      <td>Individual</td>\n",
              "      <td>Manual</td>\n",
              "      <td>First Owner</td>\n",
              "      <td>13</td>\n",
              "    </tr>\n",
              "    <tr>\n",
              "      <th>1</th>\n",
              "      <td>Maruti Wagon R LXI Minor</td>\n",
              "      <td>2007</td>\n",
              "      <td>135000</td>\n",
              "      <td>50000</td>\n",
              "      <td>Petrol</td>\n",
              "      <td>Individual</td>\n",
              "      <td>Manual</td>\n",
              "      <td>First Owner</td>\n",
              "      <td>13</td>\n",
              "    </tr>\n",
              "    <tr>\n",
              "      <th>2</th>\n",
              "      <td>Hyundai Verna 1.6 SX</td>\n",
              "      <td>2012</td>\n",
              "      <td>600000</td>\n",
              "      <td>100000</td>\n",
              "      <td>Diesel</td>\n",
              "      <td>Individual</td>\n",
              "      <td>Manual</td>\n",
              "      <td>First Owner</td>\n",
              "      <td>8</td>\n",
              "    </tr>\n",
              "    <tr>\n",
              "      <th>3</th>\n",
              "      <td>Datsun RediGO T Option</td>\n",
              "      <td>2017</td>\n",
              "      <td>250000</td>\n",
              "      <td>46000</td>\n",
              "      <td>Petrol</td>\n",
              "      <td>Individual</td>\n",
              "      <td>Manual</td>\n",
              "      <td>First Owner</td>\n",
              "      <td>3</td>\n",
              "    </tr>\n",
              "    <tr>\n",
              "      <th>4</th>\n",
              "      <td>Honda Amaze VX i-DTEC</td>\n",
              "      <td>2014</td>\n",
              "      <td>450000</td>\n",
              "      <td>141000</td>\n",
              "      <td>Diesel</td>\n",
              "      <td>Individual</td>\n",
              "      <td>Manual</td>\n",
              "      <td>Second Owner</td>\n",
              "      <td>6</td>\n",
              "    </tr>\n",
              "  </tbody>\n",
              "</table>\n",
              "</div>\n",
              "      <button class=\"colab-df-convert\" onclick=\"convertToInteractive('df-596ce2f3-aefe-49b8-a602-e500dc8790b6')\"\n",
              "              title=\"Convert this dataframe to an interactive table.\"\n",
              "              style=\"display:none;\">\n",
              "        \n",
              "  <svg xmlns=\"http://www.w3.org/2000/svg\" height=\"24px\"viewBox=\"0 0 24 24\"\n",
              "       width=\"24px\">\n",
              "    <path d=\"M0 0h24v24H0V0z\" fill=\"none\"/>\n",
              "    <path d=\"M18.56 5.44l.94 2.06.94-2.06 2.06-.94-2.06-.94-.94-2.06-.94 2.06-2.06.94zm-11 1L8.5 8.5l.94-2.06 2.06-.94-2.06-.94L8.5 2.5l-.94 2.06-2.06.94zm10 10l.94 2.06.94-2.06 2.06-.94-2.06-.94-.94-2.06-.94 2.06-2.06.94z\"/><path d=\"M17.41 7.96l-1.37-1.37c-.4-.4-.92-.59-1.43-.59-.52 0-1.04.2-1.43.59L10.3 9.45l-7.72 7.72c-.78.78-.78 2.05 0 2.83L4 21.41c.39.39.9.59 1.41.59.51 0 1.02-.2 1.41-.59l7.78-7.78 2.81-2.81c.8-.78.8-2.07 0-2.86zM5.41 20L4 18.59l7.72-7.72 1.47 1.35L5.41 20z\"/>\n",
              "  </svg>\n",
              "      </button>\n",
              "      \n",
              "  <style>\n",
              "    .colab-df-container {\n",
              "      display:flex;\n",
              "      flex-wrap:wrap;\n",
              "      gap: 12px;\n",
              "    }\n",
              "\n",
              "    .colab-df-convert {\n",
              "      background-color: #E8F0FE;\n",
              "      border: none;\n",
              "      border-radius: 50%;\n",
              "      cursor: pointer;\n",
              "      display: none;\n",
              "      fill: #1967D2;\n",
              "      height: 32px;\n",
              "      padding: 0 0 0 0;\n",
              "      width: 32px;\n",
              "    }\n",
              "\n",
              "    .colab-df-convert:hover {\n",
              "      background-color: #E2EBFA;\n",
              "      box-shadow: 0px 1px 2px rgba(60, 64, 67, 0.3), 0px 1px 3px 1px rgba(60, 64, 67, 0.15);\n",
              "      fill: #174EA6;\n",
              "    }\n",
              "\n",
              "    [theme=dark] .colab-df-convert {\n",
              "      background-color: #3B4455;\n",
              "      fill: #D2E3FC;\n",
              "    }\n",
              "\n",
              "    [theme=dark] .colab-df-convert:hover {\n",
              "      background-color: #434B5C;\n",
              "      box-shadow: 0px 1px 3px 1px rgba(0, 0, 0, 0.15);\n",
              "      filter: drop-shadow(0px 1px 2px rgba(0, 0, 0, 0.3));\n",
              "      fill: #FFFFFF;\n",
              "    }\n",
              "  </style>\n",
              "\n",
              "      <script>\n",
              "        const buttonEl =\n",
              "          document.querySelector('#df-596ce2f3-aefe-49b8-a602-e500dc8790b6 button.colab-df-convert');\n",
              "        buttonEl.style.display =\n",
              "          google.colab.kernel.accessAllowed ? 'block' : 'none';\n",
              "\n",
              "        async function convertToInteractive(key) {\n",
              "          const element = document.querySelector('#df-596ce2f3-aefe-49b8-a602-e500dc8790b6');\n",
              "          const dataTable =\n",
              "            await google.colab.kernel.invokeFunction('convertToInteractive',\n",
              "                                                     [key], {});\n",
              "          if (!dataTable) return;\n",
              "\n",
              "          const docLinkHtml = 'Like what you see? Visit the ' +\n",
              "            '<a target=\"_blank\" href=https://colab.research.google.com/notebooks/data_table.ipynb>data table notebook</a>'\n",
              "            + ' to learn more about interactive tables.';\n",
              "          element.innerHTML = '';\n",
              "          dataTable['output_type'] = 'display_data';\n",
              "          await google.colab.output.renderOutput(dataTable, element);\n",
              "          const docLink = document.createElement('div');\n",
              "          docLink.innerHTML = docLinkHtml;\n",
              "          element.appendChild(docLink);\n",
              "        }\n",
              "      </script>\n",
              "    </div>\n",
              "  </div>\n",
              "  "
            ]
          },
          "metadata": {},
          "execution_count": 61
        }
      ]
    },
    {
      "cell_type": "code",
      "metadata": {
        "colab": {
          "base_uri": "https://localhost:8080/"
        },
        "id": "IoXl68AXr8UR",
        "outputId": "28aacd8f-c335-4b1a-bd43-744c34a3e091"
      },
      "source": [
        "cardekho['name'].unique()"
      ],
      "execution_count": 34,
      "outputs": [
        {
          "output_type": "execute_result",
          "data": {
            "text/plain": [
              "array(['Maruti 800 AC', 'Maruti Wagon R LXI Minor',\n",
              "       'Hyundai Verna 1.6 SX', ..., 'Mahindra Verito 1.5 D6 BSIII',\n",
              "       'Toyota Innova 2.5 VX (Diesel) 8 Seater BS IV',\n",
              "       'Hyundai i20 Magna 1.4 CRDi'], dtype=object)"
            ]
          },
          "metadata": {},
          "execution_count": 34
        }
      ]
    },
    {
      "cell_type": "code",
      "metadata": {
        "colab": {
          "base_uri": "https://localhost:8080/"
        },
        "id": "gGwYDz-3sHBG",
        "outputId": "148490de-9fc2-4d6f-f104-065c2cc20b5e"
      },
      "source": [
        "cardekho['company'] = cardekho['name'].str.split(\" \", expand=True)[0]\n",
        "cardekho['company'] = cardekho['company'].replace({'toyouta': 'Toyota','vw':'Volkswagen','vokswagen':'Volkswagen',\n",
        "                                                      'maxda':'Mazda','porcshce':'Porsche','Bmw' : 'BMW','Mg' : 'MG'})\n",
        "cardekho['company'] = cardekho['company'].str.title()\n",
        "cardekho['company'].value_counts()"
      ],
      "execution_count": 42,
      "outputs": [
        {
          "output_type": "execute_result",
          "data": {
            "text/plain": [
              "Maruti           1191\n",
              "Hyundai           794\n",
              "Tata              352\n",
              "Mahindra          335\n",
              "Honda             241\n",
              "Ford              233\n",
              "Toyota            189\n",
              "Chevrolet         187\n",
              "Renault           146\n",
              "Volkswagen        106\n",
              "Skoda              65\n",
              "Nissan             64\n",
              "Audi               60\n",
              "Bmw                39\n",
              "Datsun             37\n",
              "Fiat               35\n",
              "Mercedes-Benz      32\n",
              "Jaguar              6\n",
              "Mitsubishi          6\n",
              "Land                5\n",
              "Volvo               4\n",
              "Jeep                3\n",
              "Ambassador          3\n",
              "Mg                  2\n",
              "Force               1\n",
              "Isuzu               1\n",
              "Kia                 1\n",
              "Name: company, dtype: int64"
            ]
          },
          "metadata": {},
          "execution_count": 42
        }
      ]
    },
    {
      "cell_type": "code",
      "metadata": {
        "colab": {
          "base_uri": "https://localhost:8080/",
          "height": 206
        },
        "id": "s-viuI26s-MO",
        "outputId": "85d58e56-e24b-4391-f788-e6bda7245c98"
      },
      "source": [
        "cardekho.head()"
      ],
      "execution_count": 35,
      "outputs": [
        {
          "output_type": "execute_result",
          "data": {
            "text/plain": [
              "   index                      name  year  selling_price  km_driven    fuel  \\\n",
              "0      0             Maruti 800 AC  2007          60000      70000  Petrol   \n",
              "1      1  Maruti Wagon R LXI Minor  2007         135000      50000  Petrol   \n",
              "2      2      Hyundai Verna 1.6 SX  2012         600000     100000  Diesel   \n",
              "3      3    Datsun RediGO T Option  2017         250000      46000  Petrol   \n",
              "4      4     Honda Amaze VX i-DTEC  2014         450000     141000  Diesel   \n",
              "\n",
              "  seller_type transmission         owner  company  Average_Selling_Price  \\\n",
              "0  Individual       Manual   First Owner   Maruti          360106.935348   \n",
              "1  Individual       Manual   First Owner   Maruti          360106.935348   \n",
              "2  Individual       Manual   First Owner  Hyundai          430072.991184   \n",
              "3  Individual       Manual   First Owner   Datsun          297026.945946   \n",
              "4  Individual       Manual  Second Owner    Honda          556049.746888   \n",
              "\n",
              "   Company_Category  Car Age  \n",
              "0                 0       13  \n",
              "1                 0       13  \n",
              "2                 1        8  \n",
              "3                 0        3  \n",
              "4                 1        6  "
            ],
            "text/html": [
              "\n",
              "  <div id=\"df-cdf9789d-a445-4de6-9245-687ca2f3603f\">\n",
              "    <div class=\"colab-df-container\">\n",
              "      <div>\n",
              "<style scoped>\n",
              "    .dataframe tbody tr th:only-of-type {\n",
              "        vertical-align: middle;\n",
              "    }\n",
              "\n",
              "    .dataframe tbody tr th {\n",
              "        vertical-align: top;\n",
              "    }\n",
              "\n",
              "    .dataframe thead th {\n",
              "        text-align: right;\n",
              "    }\n",
              "</style>\n",
              "<table border=\"1\" class=\"dataframe\">\n",
              "  <thead>\n",
              "    <tr style=\"text-align: right;\">\n",
              "      <th></th>\n",
              "      <th>index</th>\n",
              "      <th>name</th>\n",
              "      <th>year</th>\n",
              "      <th>selling_price</th>\n",
              "      <th>km_driven</th>\n",
              "      <th>fuel</th>\n",
              "      <th>seller_type</th>\n",
              "      <th>transmission</th>\n",
              "      <th>owner</th>\n",
              "      <th>company</th>\n",
              "      <th>Average_Selling_Price</th>\n",
              "      <th>Company_Category</th>\n",
              "      <th>Car Age</th>\n",
              "    </tr>\n",
              "  </thead>\n",
              "  <tbody>\n",
              "    <tr>\n",
              "      <th>0</th>\n",
              "      <td>0</td>\n",
              "      <td>Maruti 800 AC</td>\n",
              "      <td>2007</td>\n",
              "      <td>60000</td>\n",
              "      <td>70000</td>\n",
              "      <td>Petrol</td>\n",
              "      <td>Individual</td>\n",
              "      <td>Manual</td>\n",
              "      <td>First Owner</td>\n",
              "      <td>Maruti</td>\n",
              "      <td>360106.935348</td>\n",
              "      <td>0</td>\n",
              "      <td>13</td>\n",
              "    </tr>\n",
              "    <tr>\n",
              "      <th>1</th>\n",
              "      <td>1</td>\n",
              "      <td>Maruti Wagon R LXI Minor</td>\n",
              "      <td>2007</td>\n",
              "      <td>135000</td>\n",
              "      <td>50000</td>\n",
              "      <td>Petrol</td>\n",
              "      <td>Individual</td>\n",
              "      <td>Manual</td>\n",
              "      <td>First Owner</td>\n",
              "      <td>Maruti</td>\n",
              "      <td>360106.935348</td>\n",
              "      <td>0</td>\n",
              "      <td>13</td>\n",
              "    </tr>\n",
              "    <tr>\n",
              "      <th>2</th>\n",
              "      <td>2</td>\n",
              "      <td>Hyundai Verna 1.6 SX</td>\n",
              "      <td>2012</td>\n",
              "      <td>600000</td>\n",
              "      <td>100000</td>\n",
              "      <td>Diesel</td>\n",
              "      <td>Individual</td>\n",
              "      <td>Manual</td>\n",
              "      <td>First Owner</td>\n",
              "      <td>Hyundai</td>\n",
              "      <td>430072.991184</td>\n",
              "      <td>1</td>\n",
              "      <td>8</td>\n",
              "    </tr>\n",
              "    <tr>\n",
              "      <th>3</th>\n",
              "      <td>3</td>\n",
              "      <td>Datsun RediGO T Option</td>\n",
              "      <td>2017</td>\n",
              "      <td>250000</td>\n",
              "      <td>46000</td>\n",
              "      <td>Petrol</td>\n",
              "      <td>Individual</td>\n",
              "      <td>Manual</td>\n",
              "      <td>First Owner</td>\n",
              "      <td>Datsun</td>\n",
              "      <td>297026.945946</td>\n",
              "      <td>0</td>\n",
              "      <td>3</td>\n",
              "    </tr>\n",
              "    <tr>\n",
              "      <th>4</th>\n",
              "      <td>4</td>\n",
              "      <td>Honda Amaze VX i-DTEC</td>\n",
              "      <td>2014</td>\n",
              "      <td>450000</td>\n",
              "      <td>141000</td>\n",
              "      <td>Diesel</td>\n",
              "      <td>Individual</td>\n",
              "      <td>Manual</td>\n",
              "      <td>Second Owner</td>\n",
              "      <td>Honda</td>\n",
              "      <td>556049.746888</td>\n",
              "      <td>1</td>\n",
              "      <td>6</td>\n",
              "    </tr>\n",
              "  </tbody>\n",
              "</table>\n",
              "</div>\n",
              "      <button class=\"colab-df-convert\" onclick=\"convertToInteractive('df-cdf9789d-a445-4de6-9245-687ca2f3603f')\"\n",
              "              title=\"Convert this dataframe to an interactive table.\"\n",
              "              style=\"display:none;\">\n",
              "        \n",
              "  <svg xmlns=\"http://www.w3.org/2000/svg\" height=\"24px\"viewBox=\"0 0 24 24\"\n",
              "       width=\"24px\">\n",
              "    <path d=\"M0 0h24v24H0V0z\" fill=\"none\"/>\n",
              "    <path d=\"M18.56 5.44l.94 2.06.94-2.06 2.06-.94-2.06-.94-.94-2.06-.94 2.06-2.06.94zm-11 1L8.5 8.5l.94-2.06 2.06-.94-2.06-.94L8.5 2.5l-.94 2.06-2.06.94zm10 10l.94 2.06.94-2.06 2.06-.94-2.06-.94-.94-2.06-.94 2.06-2.06.94z\"/><path d=\"M17.41 7.96l-1.37-1.37c-.4-.4-.92-.59-1.43-.59-.52 0-1.04.2-1.43.59L10.3 9.45l-7.72 7.72c-.78.78-.78 2.05 0 2.83L4 21.41c.39.39.9.59 1.41.59.51 0 1.02-.2 1.41-.59l7.78-7.78 2.81-2.81c.8-.78.8-2.07 0-2.86zM5.41 20L4 18.59l7.72-7.72 1.47 1.35L5.41 20z\"/>\n",
              "  </svg>\n",
              "      </button>\n",
              "      \n",
              "  <style>\n",
              "    .colab-df-container {\n",
              "      display:flex;\n",
              "      flex-wrap:wrap;\n",
              "      gap: 12px;\n",
              "    }\n",
              "\n",
              "    .colab-df-convert {\n",
              "      background-color: #E8F0FE;\n",
              "      border: none;\n",
              "      border-radius: 50%;\n",
              "      cursor: pointer;\n",
              "      display: none;\n",
              "      fill: #1967D2;\n",
              "      height: 32px;\n",
              "      padding: 0 0 0 0;\n",
              "      width: 32px;\n",
              "    }\n",
              "\n",
              "    .colab-df-convert:hover {\n",
              "      background-color: #E2EBFA;\n",
              "      box-shadow: 0px 1px 2px rgba(60, 64, 67, 0.3), 0px 1px 3px 1px rgba(60, 64, 67, 0.15);\n",
              "      fill: #174EA6;\n",
              "    }\n",
              "\n",
              "    [theme=dark] .colab-df-convert {\n",
              "      background-color: #3B4455;\n",
              "      fill: #D2E3FC;\n",
              "    }\n",
              "\n",
              "    [theme=dark] .colab-df-convert:hover {\n",
              "      background-color: #434B5C;\n",
              "      box-shadow: 0px 1px 3px 1px rgba(0, 0, 0, 0.15);\n",
              "      filter: drop-shadow(0px 1px 2px rgba(0, 0, 0, 0.3));\n",
              "      fill: #FFFFFF;\n",
              "    }\n",
              "  </style>\n",
              "\n",
              "      <script>\n",
              "        const buttonEl =\n",
              "          document.querySelector('#df-cdf9789d-a445-4de6-9245-687ca2f3603f button.colab-df-convert');\n",
              "        buttonEl.style.display =\n",
              "          google.colab.kernel.accessAllowed ? 'block' : 'none';\n",
              "\n",
              "        async function convertToInteractive(key) {\n",
              "          const element = document.querySelector('#df-cdf9789d-a445-4de6-9245-687ca2f3603f');\n",
              "          const dataTable =\n",
              "            await google.colab.kernel.invokeFunction('convertToInteractive',\n",
              "                                                     [key], {});\n",
              "          if (!dataTable) return;\n",
              "\n",
              "          const docLinkHtml = 'Like what you see? Visit the ' +\n",
              "            '<a target=\"_blank\" href=https://colab.research.google.com/notebooks/data_table.ipynb>data table notebook</a>'\n",
              "            + ' to learn more about interactive tables.';\n",
              "          element.innerHTML = '';\n",
              "          dataTable['output_type'] = 'display_data';\n",
              "          await google.colab.output.renderOutput(dataTable, element);\n",
              "          const docLink = document.createElement('div');\n",
              "          docLink.innerHTML = docLinkHtml;\n",
              "          element.appendChild(docLink);\n",
              "        }\n",
              "      </script>\n",
              "    </div>\n",
              "  </div>\n",
              "  "
            ]
          },
          "metadata": {},
          "execution_count": 35
        }
      ]
    },
    {
      "cell_type": "markdown",
      "metadata": {
        "id": "tTO9oDrgv8as"
      },
      "source": [
        "# **Analysis of Categorical Data**\n",
        "\n"
      ]
    },
    {
      "cell_type": "code",
      "metadata": {
        "id": "0fs0BcCetx20",
        "colab": {
          "base_uri": "https://localhost:8080/"
        },
        "outputId": "56df2173-e399-41ca-f9c4-da82e0c61ed0"
      },
      "source": [
        "categorical_features = cardekho.describe(include=['object','category']).columns\n",
        "categorical_features"
      ],
      "execution_count": 43,
      "outputs": [
        {
          "output_type": "execute_result",
          "data": {
            "text/plain": [
              "Index(['name', 'fuel', 'seller_type', 'transmission', 'owner', 'company'], dtype='object')"
            ]
          },
          "metadata": {},
          "execution_count": 43
        }
      ]
    },
    {
      "cell_type": "code",
      "metadata": {
        "colab": {
          "base_uri": "https://localhost:8080/",
          "height": 579
        },
        "id": "jmunovwYw9I9",
        "outputId": "37e308a3-6d96-463b-e2f7-313dff5912b7"
      },
      "source": [
        "# Average selling price of different car companies:\n",
        "\n",
        "car_sp = pd.DataFrame(cardekho.groupby(['company'])['selling_price'].mean().sort_values(ascending = False))\n",
        "\n",
        "car_sp.plot.bar(figsize=(12,8), title= 'Car Company Name vs Average Selling Price')\n",
        "plt.show()"
      ],
      "execution_count": 44,
      "outputs": [
        {
          "output_type": "display_data",
          "data": {
            "text/plain": [
              "<Figure size 864x576 with 1 Axes>"
            ],
            "image/png": "[encoded data removed]"
          },
          "metadata": {
            "needs_background": "light"
          }
        }
      ]
    },
    {
      "cell_type": "code",
      "metadata": {
        "id": "LxpSCuEIx1o9"
      },
      "source": [
        "car_sp.rename(columns={'selling_price':'Average_Selling_Price'},inplace=True)"
      ],
      "execution_count": 45,
      "outputs": []
    },
    {
      "cell_type": "code",
      "metadata": {
        "id": "U0nVFk4eyhIz"
      },
      "source": [
        "cardekho = cardekho.merge(car_sp,on = 'company',how = 'left')"
      ],
      "execution_count": 46,
      "outputs": []
    },
    {
      "cell_type": "code",
      "metadata": {
        "id": "zGeyJzM50OhC"
      },
      "source": [
        "cardekho['Company_Category'] = cardekho['Average_Selling_Price'].apply(lambda x : 0 if x < 400000 else (1 if 400000 <= x < 700000 else 2))"
      ],
      "execution_count": 47,
      "outputs": []
    },
    {
      "cell_type": "code",
      "metadata": {
        "colab": {
          "base_uri": "https://localhost:8080/",
          "height": 206
        },
        "id": "U41zieGwzYxh",
        "outputId": "77f06d60-f0cc-477b-cf0e-5e07cd514514"
      },
      "source": [
        "cardekho.head()"
      ],
      "execution_count": null,
      "outputs": [
        {
          "output_type": "execute_result",
          "data": {
            "text/plain": [
              "                       name  year  selling_price  km_driven    fuel  \\\n",
              "0             Maruti 800 AC  2007          60000      70000  Petrol   \n",
              "1  Maruti Wagon R LXI Minor  2007         135000      50000  Petrol   \n",
              "2      Hyundai Verna 1.6 SX  2012         600000     100000  Diesel   \n",
              "3    Datsun RediGO T Option  2017         250000      46000  Petrol   \n",
              "4     Honda Amaze VX i-DTEC  2014         450000     141000  Diesel   \n",
              "\n",
              "  seller_type transmission         owner  Car Age  company  \\\n",
              "0  Individual       Manual   First Owner       13   Maruti   \n",
              "1  Individual       Manual   First Owner       13   Maruti   \n",
              "2  Individual       Manual   First Owner        8  Hyundai   \n",
              "3  Individual       Manual   First Owner        3   Datsun   \n",
              "4  Individual       Manual  Second Owner        6    Honda   \n",
              "\n",
              "   Average_Selling_Price  Company_Category  \n",
              "0          350566.930514                 0  \n",
              "1          350566.930514                 0  \n",
              "2          423908.747557                 1  \n",
              "3          296551.655172                 0  \n",
              "4          557067.584541                 1  "
            ],
            "text/html": [
              "\n",
              "  <div id=\"df-255bf445-2841-4588-ac22-d9ca218ec55a\">\n",
              "    <div class=\"colab-df-container\">\n",
              "      <div>\n",
              "<style scoped>\n",
              "    .dataframe tbody tr th:only-of-type {\n",
              "        vertical-align: middle;\n",
              "    }\n",
              "\n",
              "    .dataframe tbody tr th {\n",
              "        vertical-align: top;\n",
              "    }\n",
              "\n",
              "    .dataframe thead th {\n",
              "        text-align: right;\n",
              "    }\n",
              "</style>\n",
              "<table border=\"1\" class=\"dataframe\">\n",
              "  <thead>\n",
              "    <tr style=\"text-align: right;\">\n",
              "      <th></th>\n",
              "      <th>name</th>\n",
              "      <th>year</th>\n",
              "      <th>selling_price</th>\n",
              "      <th>km_driven</th>\n",
              "      <th>fuel</th>\n",
              "      <th>seller_type</th>\n",
              "      <th>transmission</th>\n",
              "      <th>owner</th>\n",
              "      <th>Car Age</th>\n",
              "      <th>company</th>\n",
              "      <th>Average_Selling_Price</th>\n",
              "      <th>Company_Category</th>\n",
              "    </tr>\n",
              "  </thead>\n",
              "  <tbody>\n",
              "    <tr>\n",
              "      <th>0</th>\n",
              "      <td>Maruti 800 AC</td>\n",
              "      <td>2007</td>\n",
              "      <td>60000</td>\n",
              "      <td>70000</td>\n",
              "      <td>Petrol</td>\n",
              "      <td>Individual</td>\n",
              "      <td>Manual</td>\n",
              "      <td>First Owner</td>\n",
              "      <td>13</td>\n",
              "      <td>Maruti</td>\n",
              "      <td>350566.930514</td>\n",
              "      <td>0</td>\n",
              "    </tr>\n",
              "    <tr>\n",
              "      <th>1</th>\n",
              "      <td>Maruti Wagon R LXI Minor</td>\n",
              "      <td>2007</td>\n",
              "      <td>135000</td>\n",
              "      <td>50000</td>\n",
              "      <td>Petrol</td>\n",
              "      <td>Individual</td>\n",
              "      <td>Manual</td>\n",
              "      <td>First Owner</td>\n",
              "      <td>13</td>\n",
              "      <td>Maruti</td>\n",
              "      <td>350566.930514</td>\n",
              "      <td>0</td>\n",
              "    </tr>\n",
              "    <tr>\n",
              "      <th>2</th>\n",
              "      <td>Hyundai Verna 1.6 SX</td>\n",
              "      <td>2012</td>\n",
              "      <td>600000</td>\n",
              "      <td>100000</td>\n",
              "      <td>Diesel</td>\n",
              "      <td>Individual</td>\n",
              "      <td>Manual</td>\n",
              "      <td>First Owner</td>\n",
              "      <td>8</td>\n",
              "      <td>Hyundai</td>\n",
              "      <td>423908.747557</td>\n",
              "      <td>1</td>\n",
              "    </tr>\n",
              "    <tr>\n",
              "      <th>3</th>\n",
              "      <td>Datsun RediGO T Option</td>\n",
              "      <td>2017</td>\n",
              "      <td>250000</td>\n",
              "      <td>46000</td>\n",
              "      <td>Petrol</td>\n",
              "      <td>Individual</td>\n",
              "      <td>Manual</td>\n",
              "      <td>First Owner</td>\n",
              "      <td>3</td>\n",
              "      <td>Datsun</td>\n",
              "      <td>296551.655172</td>\n",
              "      <td>0</td>\n",
              "    </tr>\n",
              "    <tr>\n",
              "      <th>4</th>\n",
              "      <td>Honda Amaze VX i-DTEC</td>\n",
              "      <td>2014</td>\n",
              "      <td>450000</td>\n",
              "      <td>141000</td>\n",
              "      <td>Diesel</td>\n",
              "      <td>Individual</td>\n",
              "      <td>Manual</td>\n",
              "      <td>Second Owner</td>\n",
              "      <td>6</td>\n",
              "      <td>Honda</td>\n",
              "      <td>557067.584541</td>\n",
              "      <td>1</td>\n",
              "    </tr>\n",
              "  </tbody>\n",
              "</table>\n",
              "</div>\n",
              "      <button class=\"colab-df-convert\" onclick=\"convertToInteractive('df-255bf445-2841-4588-ac22-d9ca218ec55a')\"\n",
              "              title=\"Convert this dataframe to an interactive table.\"\n",
              "              style=\"display:none;\">\n",
              "        \n",
              "  <svg xmlns=\"http://www.w3.org/2000/svg\" height=\"24px\"viewBox=\"0 0 24 24\"\n",
              "       width=\"24px\">\n",
              "    <path d=\"M0 0h24v24H0V0z\" fill=\"none\"/>\n",
              "    <path d=\"M18.56 5.44l.94 2.06.94-2.06 2.06-.94-2.06-.94-.94-2.06-.94 2.06-2.06.94zm-11 1L8.5 8.5l.94-2.06 2.06-.94-2.06-.94L8.5 2.5l-.94 2.06-2.06.94zm10 10l.94 2.06.94-2.06 2.06-.94-2.06-.94-.94-2.06-.94 2.06-2.06.94z\"/><path d=\"M17.41 7.96l-1.37-1.37c-.4-.4-.92-.59-1.43-.59-.52 0-1.04.2-1.43.59L10.3 9.45l-7.72 7.72c-.78.78-.78 2.05 0 2.83L4 21.41c.39.39.9.59 1.41.59.51 0 1.02-.2 1.41-.59l7.78-7.78 2.81-2.81c.8-.78.8-2.07 0-2.86zM5.41 20L4 18.59l7.72-7.72 1.47 1.35L5.41 20z\"/>\n",
              "  </svg>\n",
              "      </button>\n",
              "      \n",
              "  <style>\n",
              "    .colab-df-container {\n",
              "      display:flex;\n",
              "      flex-wrap:wrap;\n",
              "      gap: 12px;\n",
              "    }\n",
              "\n",
              "    .colab-df-convert {\n",
              "      background-color: #E8F0FE;\n",
              "      border: none;\n",
              "      border-radius: 50%;\n",
              "      cursor: pointer;\n",
              "      display: none;\n",
              "      fill: #1967D2;\n",
              "      height: 32px;\n",
              "      padding: 0 0 0 0;\n",
              "      width: 32px;\n",
              "    }\n",
              "\n",
              "    .colab-df-convert:hover {\n",
              "      background-color: #E2EBFA;\n",
              "      box-shadow: 0px 1px 2px rgba(60, 64, 67, 0.3), 0px 1px 3px 1px rgba(60, 64, 67, 0.15);\n",
              "      fill: #174EA6;\n",
              "    }\n",
              "\n",
              "    [theme=dark] .colab-df-convert {\n",
              "      background-color: #3B4455;\n",
              "      fill: #D2E3FC;\n",
              "    }\n",
              "\n",
              "    [theme=dark] .colab-df-convert:hover {\n",
              "      background-color: #434B5C;\n",
              "      box-shadow: 0px 1px 3px 1px rgba(0, 0, 0, 0.15);\n",
              "      filter: drop-shadow(0px 1px 2px rgba(0, 0, 0, 0.3));\n",
              "      fill: #FFFFFF;\n",
              "    }\n",
              "  </style>\n",
              "\n",
              "      <script>\n",
              "        const buttonEl =\n",
              "          document.querySelector('#df-255bf445-2841-4588-ac22-d9ca218ec55a button.colab-df-convert');\n",
              "        buttonEl.style.display =\n",
              "          google.colab.kernel.accessAllowed ? 'block' : 'none';\n",
              "\n",
              "        async function convertToInteractive(key) {\n",
              "          const element = document.querySelector('#df-255bf445-2841-4588-ac22-d9ca218ec55a');\n",
              "          const dataTable =\n",
              "            await google.colab.kernel.invokeFunction('convertToInteractive',\n",
              "                                                     [key], {});\n",
              "          if (!dataTable) return;\n",
              "\n",
              "          const docLinkHtml = 'Like what you see? Visit the ' +\n",
              "            '<a target=\"_blank\" href=https://colab.research.google.com/notebooks/data_table.ipynb>data table notebook</a>'\n",
              "            + ' to learn more about interactive tables.';\n",
              "          element.innerHTML = '';\n",
              "          dataTable['output_type'] = 'display_data';\n",
              "          await google.colab.output.renderOutput(dataTable, element);\n",
              "          const docLink = document.createElement('div');\n",
              "          docLink.innerHTML = docLinkHtml;\n",
              "          element.appendChild(docLink);\n",
              "        }\n",
              "      </script>\n",
              "    </div>\n",
              "  </div>\n",
              "  "
            ]
          },
          "metadata": {},
          "execution_count": 82
        }
      ]
    },
    {
      "cell_type": "markdown",
      "metadata": {
        "id": "S-YoW1z31A1F"
      },
      "source": [
        "# **Data Preparation**\n",
        "\n",
        "---\n",
        "\n"
      ]
    },
    {
      "cell_type": "code",
      "metadata": {
        "colab": {
          "base_uri": "https://localhost:8080/"
        },
        "id": "mxeWePAP1AOJ",
        "outputId": "67be8eec-db2c-48c2-9bc7-64322b9d0a66"
      },
      "source": [
        "cardekho.shape"
      ],
      "execution_count": null,
      "outputs": [
        {
          "output_type": "execute_result",
          "data": {
            "text/plain": [
              "(3395, 12)"
            ]
          },
          "metadata": {},
          "execution_count": 83
        }
      ]
    },
    {
      "cell_type": "code",
      "metadata": {
        "id": "E_fTcCU401W7"
      },
      "source": [
        "cardekho1= cardekho.copy()"
      ],
      "execution_count": 48,
      "outputs": []
    },
    {
      "cell_type": "code",
      "metadata": {
        "colab": {
          "base_uri": "https://localhost:8080/"
        },
        "id": "ZdBsZxnS1Rpy",
        "outputId": "e89530b1-2d09-4127-87a6-d4d254f87c7e"
      },
      "source": [
        "cardekho1.shape"
      ],
      "execution_count": null,
      "outputs": [
        {
          "output_type": "execute_result",
          "data": {
            "text/plain": [
              "(3395, 12)"
            ]
          },
          "metadata": {},
          "execution_count": 85
        }
      ]
    },
    {
      "cell_type": "markdown",
      "metadata": {
        "id": "YW_eUxKksrgy"
      },
      "source": [
        "## **Feature Engineering**\n",
        "\n",
        "---\n",
        "Let's convert categorical features to numeric.\n"
      ]
    },
    {
      "cell_type": "code",
      "metadata": {
        "id": "BFakl1571URq"
      },
      "source": [
        "### Data encoding\n",
        "\n",
        "encoders_nums = {\"owner\":\n",
        "                {\"Test Drive Car\":4,\"First Owner\":0,\"Second Owner\":1,\"Third Owner\":2,\"Fourth & Above Owner\":3},\n",
        "                 }\n",
        "\n",
        "cardekho1 = cardekho1.replace(encoders_nums)"
      ],
      "execution_count": 49,
      "outputs": []
    },
    {
      "cell_type": "code",
      "metadata": {
        "id": "6AQbJN1a6B9s"
      },
      "source": [
        "# One hot encoding\n",
        "cardekho1 = pd.get_dummies(cardekho1, columns=[\"fuel\"], prefix=[\"Fuel_Type\"])\n",
        "cardekho1 = pd.get_dummies(cardekho1, columns=[\"seller_type\",'transmission'],prefix=[\"Seller_Type\",\"Transmission\"])"
      ],
      "execution_count": 50,
      "outputs": []
    },
    {
      "cell_type": "code",
      "metadata": {
        "colab": {
          "base_uri": "https://localhost:8080/",
          "height": 525
        },
        "id": "frihao_L3_a8",
        "outputId": "04dc10d5-d983-489f-be62-6dba9687fbb4"
      },
      "source": [
        "cardekho1.head(5)"
      ],
      "execution_count": 51,
      "outputs": [
        {
          "output_type": "execute_result",
          "data": {
            "text/plain": [
              "   index                      name  year  selling_price  km_driven  owner  \\\n",
              "0      0             Maruti 800 AC  2007          60000      70000      0   \n",
              "1      1  Maruti Wagon R LXI Minor  2007         135000      50000      0   \n",
              "2      2      Hyundai Verna 1.6 SX  2012         600000     100000      0   \n",
              "3      3    Datsun RediGO T Option  2017         250000      46000      0   \n",
              "4      4     Honda Amaze VX i-DTEC  2014         450000     141000      1   \n",
              "\n",
              "   company  Average_Selling_Price_x  Company_Category  Car Age  ...  \\\n",
              "0   Maruti            360106.935348                 0       13  ...   \n",
              "1   Maruti            360106.935348                 0       13  ...   \n",
              "2  Hyundai            430072.991184                 1        8  ...   \n",
              "3   Datsun            297026.945946                 0        3  ...   \n",
              "4    Honda            556049.746888                 1        6  ...   \n",
              "\n",
              "   Fuel_Type_CNG  Fuel_Type_Diesel  Fuel_Type_Electric  Fuel_Type_LPG  \\\n",
              "0              0                 0                   0              0   \n",
              "1              0                 0                   0              0   \n",
              "2              0                 1                   0              0   \n",
              "3              0                 0                   0              0   \n",
              "4              0                 1                   0              0   \n",
              "\n",
              "   Fuel_Type_Petrol  Seller_Type_Dealer  Seller_Type_Individual  \\\n",
              "0                 1                   0                       1   \n",
              "1                 1                   0                       1   \n",
              "2                 0                   0                       1   \n",
              "3                 1                   0                       1   \n",
              "4                 0                   0                       1   \n",
              "\n",
              "   Seller_Type_Trustmark Dealer  Transmission_Automatic  Transmission_Manual  \n",
              "0                             0                       0                    1  \n",
              "1                             0                       0                    1  \n",
              "2                             0                       0                    1  \n",
              "3                             0                       0                    1  \n",
              "4                             0                       0                    1  \n",
              "\n",
              "[5 rows x 22 columns]"
            ],
            "text/html": [
              "\n",
              "  <div id=\"df-654f8446-f3b0-468c-a827-d65a11746ddb\">\n",
              "    <div class=\"colab-df-container\">\n",
              "      <div>\n",
              "<style scoped>\n",
              "    .dataframe tbody tr th:only-of-type {\n",
              "        vertical-align: middle;\n",
              "    }\n",
              "\n",
              "    .dataframe tbody tr th {\n",
              "        vertical-align: top;\n",
              "    }\n",
              "\n",
              "    .dataframe thead th {\n",
              "        text-align: right;\n",
              "    }\n",
              "</style>\n",
              "<table border=\"1\" class=\"dataframe\">\n",
              "  <thead>\n",
              "    <tr style=\"text-align: right;\">\n",
              "      <th></th>\n",
              "      <th>index</th>\n",
              "      <th>name</th>\n",
              "      <th>year</th>\n",
              "      <th>selling_price</th>\n",
              "      <th>km_driven</th>\n",
              "      <th>owner</th>\n",
              "      <th>company</th>\n",
              "      <th>Average_Selling_Price_x</th>\n",
              "      <th>Company_Category</th>\n",
              "      <th>Car Age</th>\n",
              "      <th>...</th>\n",
              "      <th>Fuel_Type_CNG</th>\n",
              "      <th>Fuel_Type_Diesel</th>\n",
              "      <th>Fuel_Type_Electric</th>\n",
              "      <th>Fuel_Type_LPG</th>\n",
              "      <th>Fuel_Type_Petrol</th>\n",
              "      <th>Seller_Type_Dealer</th>\n",
              "      <th>Seller_Type_Individual</th>\n",
              "      <th>Seller_Type_Trustmark Dealer</th>\n",
              "      <th>Transmission_Automatic</th>\n",
              "      <th>Transmission_Manual</th>\n",
              "    </tr>\n",
              "  </thead>\n",
              "  <tbody>\n",
              "    <tr>\n",
              "      <th>0</th>\n",
              "      <td>0</td>\n",
              "      <td>Maruti 800 AC</td>\n",
              "      <td>2007</td>\n",
              "      <td>60000</td>\n",
              "      <td>70000</td>\n",
              "      <td>0</td>\n",
              "      <td>Maruti</td>\n",
              "      <td>360106.935348</td>\n",
              "      <td>0</td>\n",
              "      <td>13</td>\n",
              "      <td>...</td>\n",
              "      <td>0</td>\n",
              "      <td>0</td>\n",
              "      <td>0</td>\n",
              "      <td>0</td>\n",
              "      <td>1</td>\n",
              "      <td>0</td>\n",
              "      <td>1</td>\n",
              "      <td>0</td>\n",
              "      <td>0</td>\n",
              "      <td>1</td>\n",
              "    </tr>\n",
              "    <tr>\n",
              "      <th>1</th>\n",
              "      <td>1</td>\n",
              "      <td>Maruti Wagon R LXI Minor</td>\n",
              "      <td>2007</td>\n",
              "      <td>135000</td>\n",
              "      <td>50000</td>\n",
              "      <td>0</td>\n",
              "      <td>Maruti</td>\n",
              "      <td>360106.935348</td>\n",
              "      <td>0</td>\n",
              "      <td>13</td>\n",
              "      <td>...</td>\n",
              "      <td>0</td>\n",
              "      <td>0</td>\n",
              "      <td>0</td>\n",
              "      <td>0</td>\n",
              "      <td>1</td>\n",
              "      <td>0</td>\n",
              "      <td>1</td>\n",
              "      <td>0</td>\n",
              "      <td>0</td>\n",
              "      <td>1</td>\n",
              "    </tr>\n",
              "    <tr>\n",
              "      <th>2</th>\n",
              "      <td>2</td>\n",
              "      <td>Hyundai Verna 1.6 SX</td>\n",
              "      <td>2012</td>\n",
              "      <td>600000</td>\n",
              "      <td>100000</td>\n",
              "      <td>0</td>\n",
              "      <td>Hyundai</td>\n",
              "      <td>430072.991184</td>\n",
              "      <td>1</td>\n",
              "      <td>8</td>\n",
              "      <td>...</td>\n",
              "      <td>0</td>\n",
              "      <td>1</td>\n",
              "      <td>0</td>\n",
              "      <td>0</td>\n",
              "      <td>0</td>\n",
              "      <td>0</td>\n",
              "      <td>1</td>\n",
              "      <td>0</td>\n",
              "      <td>0</td>\n",
              "      <td>1</td>\n",
              "    </tr>\n",
              "    <tr>\n",
              "      <th>3</th>\n",
              "      <td>3</td>\n",
              "      <td>Datsun RediGO T Option</td>\n",
              "      <td>2017</td>\n",
              "      <td>250000</td>\n",
              "      <td>46000</td>\n",
              "      <td>0</td>\n",
              "      <td>Datsun</td>\n",
              "      <td>297026.945946</td>\n",
              "      <td>0</td>\n",
              "      <td>3</td>\n",
              "      <td>...</td>\n",
              "      <td>0</td>\n",
              "      <td>0</td>\n",
              "      <td>0</td>\n",
              "      <td>0</td>\n",
              "      <td>1</td>\n",
              "      <td>0</td>\n",
              "      <td>1</td>\n",
              "      <td>0</td>\n",
              "      <td>0</td>\n",
              "      <td>1</td>\n",
              "    </tr>\n",
              "    <tr>\n",
              "      <th>4</th>\n",
              "      <td>4</td>\n",
              "      <td>Honda Amaze VX i-DTEC</td>\n",
              "      <td>2014</td>\n",
              "      <td>450000</td>\n",
              "      <td>141000</td>\n",
              "      <td>1</td>\n",
              "      <td>Honda</td>\n",
              "      <td>556049.746888</td>\n",
              "      <td>1</td>\n",
              "      <td>6</td>\n",
              "      <td>...</td>\n",
              "      <td>0</td>\n",
              "      <td>1</td>\n",
              "      <td>0</td>\n",
              "      <td>0</td>\n",
              "      <td>0</td>\n",
              "      <td>0</td>\n",
              "      <td>1</td>\n",
              "      <td>0</td>\n",
              "      <td>0</td>\n",
              "      <td>1</td>\n",
              "    </tr>\n",
              "  </tbody>\n",
              "</table>\n",
              "<p>5 rows × 22 columns</p>\n",
              "</div>\n",
              "      <button class=\"colab-df-convert\" onclick=\"convertToInteractive('df-654f8446-f3b0-468c-a827-d65a11746ddb')\"\n",
              "              title=\"Convert this dataframe to an interactive table.\"\n",
              "              style=\"display:none;\">\n",
              "        \n",
              "  <svg xmlns=\"http://www.w3.org/2000/svg\" height=\"24px\"viewBox=\"0 0 24 24\"\n",
              "       width=\"24px\">\n",
              "    <path d=\"M0 0h24v24H0V0z\" fill=\"none\"/>\n",
              "    <path d=\"M18.56 5.44l.94 2.06.94-2.06 2.06-.94-2.06-.94-.94-2.06-.94 2.06-2.06.94zm-11 1L8.5 8.5l.94-2.06 2.06-.94-2.06-.94L8.5 2.5l-.94 2.06-2.06.94zm10 10l.94 2.06.94-2.06 2.06-.94-2.06-.94-.94-2.06-.94 2.06-2.06.94z\"/><path d=\"M17.41 7.96l-1.37-1.37c-.4-.4-.92-.59-1.43-.59-.52 0-1.04.2-1.43.59L10.3 9.45l-7.72 7.72c-.78.78-.78 2.05 0 2.83L4 21.41c.39.39.9.59 1.41.59.51 0 1.02-.2 1.41-.59l7.78-7.78 2.81-2.81c.8-.78.8-2.07 0-2.86zM5.41 20L4 18.59l7.72-7.72 1.47 1.35L5.41 20z\"/>\n",
              "  </svg>\n",
              "      </button>\n",
              "      \n",
              "  <style>\n",
              "    .colab-df-container {\n",
              "      display:flex;\n",
              "      flex-wrap:wrap;\n",
              "      gap: 12px;\n",
              "    }\n",
              "\n",
              "    .colab-df-convert {\n",
              "      background-color: #E8F0FE;\n",
              "      border: none;\n",
              "      border-radius: 50%;\n",
              "      cursor: pointer;\n",
              "      display: none;\n",
              "      fill: #1967D2;\n",
              "      height: 32px;\n",
              "      padding: 0 0 0 0;\n",
              "      width: 32px;\n",
              "    }\n",
              "\n",
              "    .colab-df-convert:hover {\n",
              "      background-color: #E2EBFA;\n",
              "      box-shadow: 0px 1px 2px rgba(60, 64, 67, 0.3), 0px 1px 3px 1px rgba(60, 64, 67, 0.15);\n",
              "      fill: #174EA6;\n",
              "    }\n",
              "\n",
              "    [theme=dark] .colab-df-convert {\n",
              "      background-color: #3B4455;\n",
              "      fill: #D2E3FC;\n",
              "    }\n",
              "\n",
              "    [theme=dark] .colab-df-convert:hover {\n",
              "      background-color: #434B5C;\n",
              "      box-shadow: 0px 1px 3px 1px rgba(0, 0, 0, 0.15);\n",
              "      filter: drop-shadow(0px 1px 2px rgba(0, 0, 0, 0.3));\n",
              "      fill: #FFFFFF;\n",
              "    }\n",
              "  </style>\n",
              "\n",
              "      <script>\n",
              "        const buttonEl =\n",
              "          document.querySelector('#df-654f8446-f3b0-468c-a827-d65a11746ddb button.colab-df-convert');\n",
              "        buttonEl.style.display =\n",
              "          google.colab.kernel.accessAllowed ? 'block' : 'none';\n",
              "\n",
              "        async function convertToInteractive(key) {\n",
              "          const element = document.querySelector('#df-654f8446-f3b0-468c-a827-d65a11746ddb');\n",
              "          const dataTable =\n",
              "            await google.colab.kernel.invokeFunction('convertToInteractive',\n",
              "                                                     [key], {});\n",
              "          if (!dataTable) return;\n",
              "\n",
              "          const docLinkHtml = 'Like what you see? Visit the ' +\n",
              "            '<a target=\"_blank\" href=https://colab.research.google.com/notebooks/data_table.ipynb>data table notebook</a>'\n",
              "            + ' to learn more about interactive tables.';\n",
              "          element.innerHTML = '';\n",
              "          dataTable['output_type'] = 'display_data';\n",
              "          await google.colab.output.renderOutput(dataTable, element);\n",
              "          const docLink = document.createElement('div');\n",
              "          docLink.innerHTML = docLinkHtml;\n",
              "          element.appendChild(docLink);\n",
              "        }\n",
              "      </script>\n",
              "    </div>\n",
              "  </div>\n",
              "  "
            ]
          },
          "metadata": {},
          "execution_count": 51
        }
      ]
    },
    {
      "cell_type": "markdown",
      "metadata": {
        "id": "mnhggxLxs6po"
      },
      "source": [
        "With the help of one  hot encoding\n",
        "\n",
        "*   Fuel type attribute  is divided into 5 new attributes.\n",
        "*   Transmission attribute is divided into 2 new attributes.\n",
        "*   Seller_Type attribute is is divided into 2 new attributes.\n"
      ]
    },
    {
      "cell_type": "code",
      "metadata": {
        "colab": {
          "base_uri": "https://localhost:8080/"
        },
        "id": "4gqITTcgojmE",
        "outputId": "58a992ea-2078-431f-d89a-ce761ee31db9"
      },
      "source": [
        "cardekho1.columns"
      ],
      "execution_count": 52,
      "outputs": [
        {
          "output_type": "execute_result",
          "data": {
            "text/plain": [
              "Index(['index', 'name', 'year', 'selling_price', 'km_driven', 'owner',\n",
              "       'company', 'Average_Selling_Price_x', 'Company_Category', 'Car Age',\n",
              "       'Average_Selling_Price_y', 'Average_Selling_Price', 'Fuel_Type_CNG',\n",
              "       'Fuel_Type_Diesel', 'Fuel_Type_Electric', 'Fuel_Type_LPG',\n",
              "       'Fuel_Type_Petrol', 'Seller_Type_Dealer', 'Seller_Type_Individual',\n",
              "       'Seller_Type_Trustmark Dealer', 'Transmission_Automatic',\n",
              "       'Transmission_Manual'],\n",
              "      dtype='object')"
            ]
          },
          "metadata": {},
          "execution_count": 52
        }
      ]
    },
    {
      "cell_type": "code",
      "metadata": {
        "id": "rsxAggS4ms6x"
      },
      "source": [
        "features = numerical_features.copy()"
      ],
      "execution_count": 53,
      "outputs": []
    },
    {
      "cell_type": "code",
      "metadata": {
        "id": "OpB9QRuBnd-G"
      },
      "source": [
        "features.extend(['owner','Company_Category','Average_Selling_Price', 'Fuel_Type_CNG',\n",
        "       'Fuel_Type_Diesel', 'Fuel_Type_Electric', 'Fuel_Type_LPG',\n",
        "       'Fuel_Type_Petrol', 'Seller_Type_Dealer', 'Seller_Type_Individual',\n",
        "       'Seller_Type_Trustmark Dealer', 'Transmission_Automatic',\n",
        "       'Transmission_Manual'])"
      ],
      "execution_count": 54,
      "outputs": []
    },
    {
      "cell_type": "code",
      "metadata": {
        "colab": {
          "base_uri": "https://localhost:8080/"
        },
        "id": "A4m7PCOOpEAc",
        "outputId": "5c1d9008-0c00-4725-d959-2bdec4d87adb"
      },
      "source": [
        "features"
      ],
      "execution_count": 55,
      "outputs": [
        {
          "output_type": "execute_result",
          "data": {
            "text/plain": [
              "['km_driven',\n",
              " 'Car Age',\n",
              " 'owner',\n",
              " 'Company_Category',\n",
              " 'Average_Selling_Price',\n",
              " 'Fuel_Type_CNG',\n",
              " 'Fuel_Type_Diesel',\n",
              " 'Fuel_Type_Electric',\n",
              " 'Fuel_Type_LPG',\n",
              " 'Fuel_Type_Petrol',\n",
              " 'Seller_Type_Dealer',\n",
              " 'Seller_Type_Individual',\n",
              " 'Seller_Type_Trustmark Dealer',\n",
              " 'Transmission_Automatic',\n",
              " 'Transmission_Manual']"
            ]
          },
          "metadata": {},
          "execution_count": 55
        }
      ]
    },
    {
      "cell_type": "code",
      "source": [],
      "metadata": {
        "id": "CjkctbcRbjSt"
      },
      "execution_count": null,
      "outputs": []
    },
    {
      "cell_type": "markdown",
      "metadata": {
        "id": "VK7_hVCzqE6p"
      },
      "source": [
        "# **Implementing Linear Regression**\n",
        "\n",
        "**Performing Simple Linear Regression**\n",
        "\n",
        "Equation of linear regression\n",
        "\n",
        "*y* = *c* + *m1x1* + *m2x2* + ....\n",
        "\n",
        "*   *c* is the response\n",
        "*   *y* is the intercept\n",
        "*   *m1* is the coefficient for the first feature\n",
        "*   *m2* is the coefficient for the second feature\n",
        "\n",
        "\n",
        "In our case:\n",
        "\n",
        "\n",
        "The *m* values are called the **model coefficients or model parameters**.\n",
        "\n",
        "\n",
        "---\n",
        "**Generic Steps in model building:**\n",
        "\n",
        "We first assign the feature variable to the variable X and the response variable, in this case 'Price' to the variable y.\n"
      ]
    },
    {
      "cell_type": "code",
      "metadata": {
        "id": "YTwZ5m6DnfYG"
      },
      "source": [
        "# Define input and output variables:\n",
        "\n",
        "from scipy.stats import zscore\n",
        "\n",
        "X = cardekho1[features].apply(zscore)\n",
        "\n",
        "y = np.log10(cardekho1['selling_price'])"
      ],
      "execution_count": 56,
      "outputs": []
    },
    {
      "cell_type": "markdown",
      "source": [
        "**Train-Test Split**\n",
        "\n",
        "You now need to split our variables into training and testing sets. You'll perform this by importing **train_test_split** from the **sklearn.model_selection** library. It is usually a good practice to keep 80% of the data in your train dataset and the rest 20% in your test dataset."
      ],
      "metadata": {
        "id": "AeBHcG_b6ivf"
      }
    },
    {
      "cell_type": "code",
      "metadata": {
        "colab": {
          "base_uri": "https://localhost:8080/"
        },
        "id": "vgXCQ3nKpzdf",
        "outputId": "44961860-1b31-4042-decb-e1ca7342a076"
      },
      "source": [
        "from sklearn.model_selection import train_test_split \n",
        "X_train, X_test, y_train, y_test = train_test_split( X,y , test_size = 0.2, random_state = 0) \n",
        "print(X_train.shape)\n",
        "print(X_test.shape)"
      ],
      "execution_count": 57,
      "outputs": [
        {
          "output_type": "stream",
          "name": "stdout",
          "text": [
            "(3310, 15)\n",
            "(828, 15)\n"
          ]
        }
      ]
    },
    {
      "cell_type": "code",
      "metadata": {
        "id": "SvXR3Mivp_zf",
        "colab": {
          "base_uri": "https://localhost:8080/"
        },
        "outputId": "0c8bc91b-dfb3-4441-ad44-3816f8d32e96"
      },
      "source": [
        "from sklearn.preprocessing import StandardScaler\n",
        "from sklearn.preprocessing import PowerTransformer\n",
        "from sklearn.preprocessing import PolynomialFeatures\n",
        "from sklearn.pipeline import Pipeline\n",
        "\n",
        "from sklearn.linear_model import LinearRegression\n",
        "from sklearn.ensemble import GradientBoostingRegressor\n",
        "\n",
        "#use scaling\n",
        "sc= StandardScaler()\n",
        "X_train= sc.fit_transform(X_train)\n",
        "X_test= sc.transform(X_test)\n",
        "\n",
        "lr = LinearRegression()\n",
        "lr.fit(X_train, y_train)\n",
        "\n",
        "print(\"Training\")\n",
        "print(lr.score(X_train,y_train))\n",
        "\n",
        "print(\"Testing\")\n",
        "print(lr.score(X_test,y_test))\n",
        "\n",
        "print(lr.coef_)\n",
        "print(lr.intercept_)\n",
        "\n",
        "y_pred = lr.predict(X_test)"
      ],
      "execution_count": 61,
      "outputs": [
        {
          "output_type": "stream",
          "name": "stdout",
          "text": [
            "Training\n",
            "0.7704609529204257\n",
            "Testing\n",
            "0.76079419787447\n",
            "[-1.58535372e-02 -1.91570175e-01 -1.12795503e-02  5.88679916e-02\n",
            "  8.46166364e-02  9.89760374e+10  5.05755563e+11  1.75791949e+10\n",
            "  7.64172386e+10  5.05601907e+11 -1.53883360e+11 -1.58613654e+11\n",
            " -5.33207605e+10  3.85737259e+11  3.85737259e+11]\n",
            "5.565773857575525\n"
          ]
        }
      ]
    },
    {
      "cell_type": "code",
      "source": [
        "# Using GradientBoostingRegressor:\n",
        "\n",
        "pipe = Pipeline((\n",
        "(\"sc\",StandardScaler()),\n",
        "(\"lr\", GradientBoostingRegressor()),\n",
        "))\n",
        "pipe.fit(X_train,y_train)\n",
        "\n",
        "print(\"Training\")\n",
        "print(pipe.score(X_train,y_train))\n",
        "print(\"Testing\")\n",
        "print(pipe.score(X_test,y_test))"
      ],
      "metadata": {
        "colab": {
          "base_uri": "https://localhost:8080/"
        },
        "id": "Nk5TXJ4ASPsy",
        "outputId": "471ebf5c-e2a8-4a29-cafa-c0d218bc331b"
      },
      "execution_count": 59,
      "outputs": [
        {
          "output_type": "stream",
          "name": "stdout",
          "text": [
            "Training\n",
            "0.8237935447585947\n",
            "Testing\n",
            "0.802328587085067\n"
          ]
        }
      ]
    },
    {
      "cell_type": "markdown",
      "source": [
        "We can see that using Scaling and Gradient boosting we can achieve better results."
      ],
      "metadata": {
        "id": "MWw9fLM_ULKA"
      }
    },
    {
      "cell_type": "markdown",
      "metadata": {
        "id": "dASaMWtxuUp4"
      },
      "source": [
        "## **Regression Evaluation Metrics**\n",
        "\n",
        "---\n",
        "\n",
        "\n",
        "Here are three common evaluation metrics for regression problems:\n",
        "\n",
        "**Mean Absolute Error (MAE)** is the mean of the absolute value of the errors:\n",
        "\n",
        "1n∑i=1n|yi−y^i| \n",
        " \n",
        "**Mean Squared Error (MSE)** is the mean of the squared errors:\n",
        "\n",
        "1n∑i=1n(yi−y^i)2\n",
        " \n",
        "Root Mean Squared Error (RMSE) **bold text** is the square root of the mean of the squared errors:\n",
        "\n",
        "1n∑i=√1n(yi−y^i)2\n",
        " \n",
        "Comparing these metrics:\n",
        "\n",
        "MAE is the easiest to understand, because it's the average error.\n",
        "<br>MSE is more popular than MAE, because MSE \"punishes\" larger errors, which tends to be useful in the real world.\n",
        "<br>RMSE is even more popular than MSE, because RMSE is interpretable in the \"y\" units.\n",
        "<br>All of these are loss functions, because we want to minimize them."
      ]
    },
    {
      "cell_type": "code",
      "metadata": {
        "colab": {
          "base_uri": "https://localhost:8080/"
        },
        "id": "__2-vPxuqbAP",
        "outputId": "e14b9274-c3cb-47cc-ec3c-f2b528c6b32b"
      },
      "source": [
        "from sklearn.metrics import mean_squared_error\n",
        "from sklearn.metrics import mean_absolute_error\n",
        "from sklearn.metrics import r2_score\n",
        "\n",
        "MSE= mean_squared_error(10**(y_test), 10**(y_pred))\n",
        "print(\"MSE :\" , MSE)\n",
        "\n",
        "MAE= mean_absolute_error(10**(y_test), 10**(y_pred))\n",
        "print(\"MAE :\" ,MAE)\n",
        "\n",
        "RMSE= np.sqrt(MSE)\n",
        "print(\"RMSE :\" ,RMSE)\n",
        "\n",
        "r2= r2_score(10**(y_test), 10**(y_pred))\n",
        "print(\"R2 :\" ,r2)"
      ],
      "execution_count": 62,
      "outputs": [
        {
          "output_type": "stream",
          "name": "stdout",
          "text": [
            "MSE : 79053438673.9918\n",
            "MAE : 153872.54147912638\n",
            "RMSE : 281164.4335153218\n",
            "R2 : 0.7919964548695131\n"
          ]
        }
      ]
    },
    {
      "cell_type": "markdown",
      "metadata": {
        "id": "H_DHnbefvY7r"
      },
      "source": [
        "## **Residuals:**\n",
        "\n",
        "**Residual analysis**\n",
        "\n",
        "To validate assumptions of the model, and hence the reliability for inference.\n",
        "\n",
        "**Distribution of the error terms**\n",
        "\n",
        "We need to check if the error terms are also normally distributed (which is infact, one of the major assumptions of linear regression), let us plot the histogram of the error terms and see what it looks like.\n"
      ]
    },
    {
      "cell_type": "code",
      "metadata": {
        "colab": {
          "base_uri": "https://localhost:8080/",
          "height": 573
        },
        "id": "8WZvbwwSvUz3",
        "outputId": "634902b1-da9e-43dc-9810-a339a6abe76e"
      },
      "source": [
        "fig=plt.figure(figsize=(8,8))\n",
        "  \n",
        "sns.distplot((10**(y_test)- 10**(y_pred)),bins=20)\n",
        "\n",
        "#Plot Label\n",
        "fig.suptitle('Residual Analysis', fontsize = 20)   "
      ],
      "execution_count": 63,
      "outputs": [
        {
          "output_type": "execute_result",
          "data": {
            "text/plain": [
              "Text(0.5, 0.98, 'Residual Analysis')"
            ]
          },
          "metadata": {},
          "execution_count": 63
        },
        {
          "output_type": "display_data",
          "data": {
            "text/plain": [
              "<Figure size 576x576 with 1 Axes>"
            ],
            "image/png": "[encoded data removed]"
          },
          "metadata": {
            "needs_background": "light"
          }
        }
      ]
    },
    {
      "cell_type": "code",
      "source": [],
      "metadata": {
        "id": "RXPXCLbX-aAy"
      },
      "execution_count": null,
      "outputs": []
    },
    {
      "cell_type": "markdown",
      "source": [
        "# **Linear regression model from statsmodels.api.**"
      ],
      "metadata": {
        "id": "gpltNgi95pTM"
      }
    },
    {
      "cell_type": "code",
      "source": [
        "import statsmodels.api as sm\n",
        "import statsmodels.formula.api as smf"
      ],
      "metadata": {
        "id": "WfS4zDlY5s6_"
      },
      "execution_count": 64,
      "outputs": []
    },
    {
      "cell_type": "markdown",
      "source": [
        "By default, the statsmodels library fits a line on the dataset which passes through the origin. But in order to have an intercept, you need to manually use the add_constant attribute of statsmodels. And once you've added the constant to your X_train dataset, you can go ahead and fit a regression line using the OLS (Ordinary Least Squares) attribute of statsmodels as shown below:"
      ],
      "metadata": {
        "id": "-jxGUISE-mIB"
      }
    },
    {
      "cell_type": "code",
      "source": [
        "# Add a constant to get an intercept\n",
        "X = sm.add_constant(X)\n",
        "\n",
        "# Fit the resgression line using 'OLS'\n",
        "model = sm.OLS(y, X).fit()"
      ],
      "metadata": {
        "id": "B-5QAV67-n2e"
      },
      "execution_count": 71,
      "outputs": []
    },
    {
      "cell_type": "code",
      "source": [
        "# Print the parameters, i.e. the intercept and the slope of the regression line fitted\n",
        "model.params"
      ],
      "metadata": {
        "colab": {
          "base_uri": "https://localhost:8080/"
        },
        "id": "8z6aXd18AErr",
        "outputId": "efc89041-fd61-439d-8007-b8e06632e4c2"
      },
      "execution_count": 72,
      "outputs": [
        {
          "output_type": "execute_result",
          "data": {
            "text/plain": [
              "const                           5.565565\n",
              "km_driven                      -0.012684\n",
              "Car Age                        -0.191865\n",
              "owner                          -0.011673\n",
              "Company_Category                0.060406\n",
              "Average_Selling_Price           0.084176\n",
              "Fuel_Type_CNG                  -0.008305\n",
              "Fuel_Type_Diesel                0.043508\n",
              "Fuel_Type_Electric             -0.000538\n",
              "Fuel_Type_LPG                  -0.008880\n",
              "Fuel_Type_Petrol               -0.040598\n",
              "Seller_Type_Dealer              0.003041\n",
              "Seller_Type_Individual         -0.013301\n",
              "Seller_Type_Trustmark Dealer    0.029364\n",
              "Transmission_Automatic          0.022055\n",
              "Transmission_Manual            -0.022055\n",
              "dtype: float64"
            ]
          },
          "metadata": {},
          "execution_count": 72
        }
      ]
    },
    {
      "cell_type": "code",
      "source": [
        "# Performing a summary operation lists out all the different parameters of the regression line fitted\n",
        "print(model.summary())"
      ],
      "metadata": {
        "colab": {
          "base_uri": "https://localhost:8080/"
        },
        "id": "V8ZW_CkK-_9i",
        "outputId": "a72e5051-5e3e-45bd-bad9-1adc02f59e2a"
      },
      "execution_count": 73,
      "outputs": [
        {
          "output_type": "stream",
          "name": "stdout",
          "text": [
            "                            OLS Regression Results                            \n",
            "==============================================================================\n",
            "Dep. Variable:          selling_price   R-squared:                       0.769\n",
            "Model:                            OLS   Adj. R-squared:                  0.768\n",
            "Method:                 Least Squares   F-statistic:                     1143.\n",
            "Date:                Sun, 29 Jan 2023   Prob (F-statistic):               0.00\n",
            "Time:                        14:49:47   Log-Likelihood:                 1505.3\n",
            "No. Observations:                4138   AIC:                            -2985.\n",
            "Df Residuals:                    4125   BIC:                            -2902.\n",
            "Df Model:                          12                                         \n",
            "Covariance Type:            nonrobust                                         \n",
            "================================================================================================\n",
            "                                   coef    std err          t      P>|t|      [0.025      0.975]\n",
            "------------------------------------------------------------------------------------------------\n",
            "const                            5.5656      0.003   2125.428      0.000       5.560       5.571\n",
            "km_driven                       -0.0127      0.003     -3.688      0.000      -0.019      -0.006\n",
            "Car Age                         -0.1919      0.003    -57.968      0.000      -0.198      -0.185\n",
            "owner                           -0.0117      0.003     -4.031      0.000      -0.017      -0.006\n",
            "Company_Category                 0.0604      0.004     17.131      0.000       0.053       0.067\n",
            "Average_Selling_Price            0.0842      0.004     21.559      0.000       0.077       0.092\n",
            "Fuel_Type_CNG                   -0.0083      0.003     -3.220      0.001      -0.013      -0.003\n",
            "Fuel_Type_Diesel                 0.0435      0.002     28.385      0.000       0.041       0.047\n",
            "Fuel_Type_Electric              -0.0005      0.003     -0.205      0.838      -0.006       0.005\n",
            "Fuel_Type_LPG                   -0.0089      0.003     -3.417      0.001      -0.014      -0.004\n",
            "Fuel_Type_Petrol                -0.0406      0.002    -26.487      0.000      -0.044      -0.038\n",
            "Seller_Type_Dealer               0.0030      0.002      1.983      0.047     3.4e-05       0.006\n",
            "Seller_Type_Individual          -0.0133      0.001     -9.248      0.000      -0.016      -0.010\n",
            "Seller_Type_Trustmark Dealer     0.0294      0.002     11.803      0.000       0.024       0.034\n",
            "Transmission_Automatic           0.0221      0.002     13.932      0.000       0.019       0.025\n",
            "Transmission_Manual             -0.0221      0.002    -13.932      0.000      -0.025      -0.019\n",
            "==============================================================================\n",
            "Omnibus:                       63.492   Durbin-Watson:                   1.843\n",
            "Prob(Omnibus):                  0.000   Jarque-Bera (JB):              103.216\n",
            "Skew:                          -0.132   Prob(JB):                     3.86e-23\n",
            "Kurtosis:                       3.727   Cond. No.                     5.74e+15\n",
            "==============================================================================\n",
            "\n",
            "Notes:\n",
            "[1] Standard Errors assume that the covariance matrix of the errors is correctly specified.\n",
            "[2] The smallest eigenvalue is 4.07e-28. This might indicate that there are\n",
            "strong multicollinearity problems or that the design matrix is singular.\n"
          ]
        }
      ]
    },
    {
      "cell_type": "markdown",
      "source": [
        "**Looking at some key statistics from the summary**\n",
        "\n",
        "The values we are concerned with are -\n",
        "\n",
        "1.   The coefficients and significance (p-values)\n",
        "2.   R-squared\n",
        "3.   F statistic and its significance\n",
        "\n",
        "\n",
        "We can see from above result Fuel_Type_Electric  P>|t| has greater than 0.05, hence we can ignore this one from our independent variables."
      ],
      "metadata": {
        "id": "0LyiI7w4_Fkt"
      }
    },
    {
      "cell_type": "markdown",
      "metadata": {
        "id": "Xq-eMd7zrcBt"
      },
      "source": [
        "# **Implementing Lasso regression**\n",
        "\n",
        "---\n",
        "Lasso regression is a type of linear regression that uses shrinkage. Shrinkage is where data values are shrunk towards a central point, like the mean. The lasso procedure encourages simple, sparse models (i.e. models with fewer parameters)."
      ]
    },
    {
      "cell_type": "code",
      "metadata": {
        "colab": {
          "base_uri": "https://localhost:8080/"
        },
        "id": "998xLzg1qr3L",
        "outputId": "79f0d32f-550a-4cfb-c525-583c8e974cdc"
      },
      "source": [
        "from sklearn.linear_model import Lasso\n",
        "lasso  = Lasso(alpha=0.005 , max_iter= 500)\n",
        "\n",
        "lasso.fit(X_train, y_train)\n",
        "\n",
        "print(lasso.score(X_train, y_train))\n",
        "print(lasso.score(X_test, y_test))"
      ],
      "execution_count": null,
      "outputs": [
        {
          "output_type": "stream",
          "name": "stdout",
          "text": [
            "0.7447902115055101\n",
            "0.7712680730459011\n"
          ]
        }
      ]
    },
    {
      "cell_type": "code",
      "metadata": {
        "id": "aoh7jONQrkoX"
      },
      "source": [
        "y_pred_l = lasso.predict(X_test)"
      ],
      "execution_count": null,
      "outputs": []
    },
    {
      "cell_type": "code",
      "metadata": {
        "colab": {
          "base_uri": "https://localhost:8080/"
        },
        "id": "MHkjjILMrzE-",
        "outputId": "30c593a6-568f-416d-8ac3-063ac7fbd279"
      },
      "source": [
        "MSE= mean_squared_error(10**(y_test), 10**(y_pred_l))\n",
        "print(\"MSE :\" , MSE)\n",
        "\n",
        "MAE= mean_absolute_error(10**(y_test), 10**(y_pred_l))\n",
        "print(\"MAE :\" ,MAE)\n",
        "\n",
        "RMSE= np.sqrt(MSE)\n",
        "print(\"RMSE :\" ,RMSE)\n",
        "\n",
        "r2= r2_score(10**(y_test), 10**(y_pred_l))\n",
        "print(\"R2 :\" ,r2)"
      ],
      "execution_count": null,
      "outputs": [
        {
          "output_type": "stream",
          "name": "stdout",
          "text": [
            "MSE : 59947897893.12127\n",
            "MAE : 144033.9490854695\n",
            "RMSE : 244842.5981995806\n",
            "R2 : 0.7661595436550428\n"
          ]
        }
      ]
    },
    {
      "cell_type": "code",
      "metadata": {
        "colab": {
          "base_uri": "https://localhost:8080/",
          "height": 572
        },
        "id": "1YbqkFO8sMmP",
        "outputId": "75e996a6-dccd-4ba0-9c29-e00941838299"
      },
      "source": [
        "#Resuldual Analysis\n",
        "fig=plt.figure(figsize=(8,8))\n",
        "  \n",
        "sns.distplot((10**(y_test)- 10**(y_pred_l)),bins=20,color='r')\n",
        "\n",
        "#Plot Label\n",
        "fig.suptitle('Residual Analysis', fontsize = 20)   "
      ],
      "execution_count": null,
      "outputs": [
        {
          "output_type": "execute_result",
          "data": {
            "text/plain": [
              "Text(0.5, 0.98, 'Residual Analysis')"
            ]
          },
          "metadata": {
            "tags": []
          },
          "execution_count": 96
        },
        {
          "output_type": "display_data",
          "data": {
            "image/png": "[encoded data removed]",
            "text/plain": [
              "<Figure size 576x576 with 1 Axes>"
            ]
          },
          "metadata": {
            "tags": [],
            "needs_background": "light"
          }
        }
      ]
    },
    {
      "cell_type": "markdown",
      "metadata": {
        "id": "8Is-ZJp6g5My"
      },
      "source": [
        "## **Implementing Cross-Validation Procedure for Lasso**\n",
        "\n",
        "---\n",
        "\n"
      ]
    },
    {
      "cell_type": "code",
      "metadata": {
        "colab": {
          "base_uri": "https://localhost:8080/"
        },
        "id": "yhkKCe6Lgxw_",
        "outputId": "49ab2e52-acdc-4004-facf-413624ec16cf"
      },
      "source": [
        "# Cross validation\n",
        "\n",
        "from sklearn.model_selection import GridSearchCV\n",
        "\n",
        "lasso = Lasso()\n",
        "parameters = {'alpha': [1e-15,1e-13,1e-10,1e-8,1e-5,1e-4,1e-3,1e-2,1e-1,1,5,10,20,30,40,45,50,55,60,100]}\n",
        "\n",
        "lasso_regressor = GridSearchCV(lasso, parameters, scoring='neg_mean_squared_error', cv=4)\n",
        "lasso_regressor.fit(X_train, y_train)\n",
        "\n",
        "print(\"The best fit alpha value is found out to be :\" ,lasso_regressor.best_params_)\n",
        "print(\"\\nUsing \",lasso_regressor.best_params_, \" the negative mean squared error is: \", lasso_regressor.best_score_)"
      ],
      "execution_count": null,
      "outputs": [
        {
          "output_type": "stream",
          "name": "stdout",
          "text": [
            "The best fit alpha value is found out to be : {'alpha': 0.001}\n",
            "\n",
            "Using  {'alpha': 0.001}  the negative mean squared error is:  -0.029346408730421356\n"
          ]
        }
      ]
    },
    {
      "cell_type": "code",
      "metadata": {
        "id": "ge2WsSBphCq9"
      },
      "source": [
        "y_pred_lasso = lasso_regressor.predict(X_test)"
      ],
      "execution_count": null,
      "outputs": []
    },
    {
      "cell_type": "code",
      "metadata": {
        "colab": {
          "base_uri": "https://localhost:8080/"
        },
        "id": "UblAqAcUhKzC",
        "outputId": "86dd9341-9af2-41a9-ee5f-45ea2124d3e9"
      },
      "source": [
        "MSE= mean_squared_error(10**(y_test), 10**(y_pred_lasso))\n",
        "print(\"MSE :\" , MSE)\n",
        "\n",
        "MAE= mean_absolute_error(10**(y_test), 10**(y_pred_lasso))\n",
        "print(\"MAE :\" ,MAE)\n",
        "\n",
        "RMSE= np.sqrt(MSE)\n",
        "print(\"RMSE :\" ,RMSE)\n",
        "\n",
        "r2= r2_score(10**(y_test), 10**(y_pred_lasso))\n",
        "print(\"R2 :\" ,r2)"
      ],
      "execution_count": null,
      "outputs": [
        {
          "output_type": "stream",
          "name": "stdout",
          "text": [
            "MSE : 61365877719.64536\n",
            "MAE : 145556.6583598306\n",
            "RMSE : 247721.37114033048\n",
            "R2 : 0.7606283897468022\n"
          ]
        }
      ]
    },
    {
      "cell_type": "code",
      "metadata": {
        "colab": {
          "base_uri": "https://localhost:8080/",
          "height": 573
        },
        "id": "__ni4rfy-T_K",
        "outputId": "6b4860e1-aa58-4546-c954-73d2a7dd7dc6"
      },
      "source": [
        "#Resuldual Analysis\n",
        "\n",
        "fig=plt.figure(figsize=(8,8))\n",
        "  \n",
        "sns.distplot((10**(y_test)- 10**(y_pred_lasso)),bins=20,color='r')\n",
        "\n",
        "#Plot Label\n",
        "fig.suptitle('Residual Analysis', fontsize = 20)   "
      ],
      "execution_count": null,
      "outputs": [
        {
          "output_type": "execute_result",
          "data": {
            "text/plain": [
              "Text(0.5, 0.98, 'Residual Analysis')"
            ]
          },
          "metadata": {},
          "execution_count": 132
        },
        {
          "output_type": "display_data",
          "data": {
            "text/plain": [
              "<Figure size 576x576 with 1 Axes>"
            ],
            "image/png": "[encoded data removed]"
          },
          "metadata": {
            "needs_background": "light"
          }
        }
      ]
    },
    {
      "cell_type": "markdown",
      "metadata": {
        "id": "PG-K3an_iSXC"
      },
      "source": [
        "\n",
        "**<br>Implementing Ridge Regression**\n",
        "---\n",
        "Ridge regression is a way to create a parsimonious model when the number of predictor variables in a set exceeds the number of observations, or when a data set has multicollinearity (correlations between predictor variables).\n"
      ]
    },
    {
      "cell_type": "code",
      "metadata": {
        "id": "1h6-bMVAhtEy",
        "colab": {
          "base_uri": "https://localhost:8080/"
        },
        "outputId": "c5281405-9c5c-4125-94a0-c19b89960b76"
      },
      "source": [
        "from sklearn.linear_model import Ridge\n",
        "\n",
        "ridge  = Ridge(alpha=0.1)\n",
        "ridge.fit(X_train,y_train)\n",
        "\n",
        "print(ridge.score(X_train, y_train))\n",
        "print(ridge.score(X_test, y_test))"
      ],
      "execution_count": null,
      "outputs": [
        {
          "output_type": "stream",
          "name": "stdout",
          "text": [
            "0.7460217015531888\n",
            "0.7707686947559732\n"
          ]
        }
      ]
    },
    {
      "cell_type": "code",
      "metadata": {
        "id": "9Dsgw0Loiwn3"
      },
      "source": [
        "y_pred_r = ridge.predict(X_test)"
      ],
      "execution_count": null,
      "outputs": []
    },
    {
      "cell_type": "code",
      "metadata": {
        "colab": {
          "base_uri": "https://localhost:8080/"
        },
        "id": "dNfYQMCAiyDv",
        "outputId": "3691c195-e169-44a7-b434-468939e6fd19"
      },
      "source": [
        "MSE= mean_squared_error(10**(y_test), 10**(y_pred_r))\n",
        "print(\"MSE :\" , MSE)\n",
        "\n",
        "MAE= mean_absolute_error(10**(y_test), 10**(y_pred_r))\n",
        "print(\"MAE :\" ,MAE)\n",
        "\n",
        "RMSE= np.sqrt(MSE)\n",
        "print(\"RMSE :\" ,RMSE)\n",
        "\n",
        "r2= r2_score(10**(y_test), 10**(y_pred_r))\n",
        "print(\"R2 :\" ,r2)"
      ],
      "execution_count": null,
      "outputs": [
        {
          "output_type": "stream",
          "name": "stdout",
          "text": [
            "MSE : 61982766339.23467\n",
            "MAE : 145995.40453021642\n",
            "RMSE : 248963.383531062\n",
            "R2 : 0.7582220749069398\n"
          ]
        }
      ]
    },
    {
      "cell_type": "code",
      "metadata": {
        "colab": {
          "base_uri": "https://localhost:8080/",
          "height": 573
        },
        "id": "wSlE_xxx_snE",
        "outputId": "961fc73c-e205-4fd1-cb82-14170445f86c"
      },
      "source": [
        "#Resuldual Analysis\n",
        "\n",
        "fig=plt.figure(figsize=(8,8))\n",
        "  \n",
        "sns.distplot((10**(y_test)- 10**(y_pred_r)),bins=20,color='r')\n",
        "\n",
        "#Plot Label\n",
        "fig.suptitle('Residual Analysis', fontsize = 20)   "
      ],
      "execution_count": null,
      "outputs": [
        {
          "output_type": "execute_result",
          "data": {
            "text/plain": [
              "Text(0.5, 0.98, 'Residual Analysis')"
            ]
          },
          "metadata": {},
          "execution_count": 136
        },
        {
          "output_type": "display_data",
          "data": {
            "text/plain": [
              "<Figure size 576x576 with 1 Axes>"
            ],
            "image/png": "[encoded data removed]"
          },
          "metadata": {
            "needs_background": "light"
          }
        }
      ]
    },
    {
      "cell_type": "markdown",
      "metadata": {
        "id": "FWPoInr3i-il"
      },
      "source": [
        "## Running Grid Search Cross Validation for Ridge Regression\n",
        "\n",
        "---\n",
        "\n"
      ]
    },
    {
      "cell_type": "code",
      "metadata": {
        "id": "mULqpIxiizqC",
        "colab": {
          "base_uri": "https://localhost:8080/"
        },
        "outputId": "6aecf159-2776-4c1c-cd06-39d20df7cd5c"
      },
      "source": [
        "# Hyperprarameter tuning\n",
        "\n",
        "ridge = Ridge()\n",
        "parameters = {'alpha': [1e-15,1e-10,1e-8,1e-5,1e-4,1e-3,1e-2,1,5,10,20,30,40,45,50,55,60,100]}\n",
        "\n",
        "ridge_regressor = GridSearchCV(ridge, parameters, scoring='neg_mean_squared_error', cv=3)\n",
        "ridge_regressor.fit(X_train,y_train)\n",
        "\n",
        "print(\"The best fit alpha value is found out to be :\" ,ridge_regressor.best_params_)\n",
        "print(\"\\nUsing \",ridge_regressor.best_params_, \" the negative mean squared error is: \", ridge_regressor.best_score_)"
      ],
      "execution_count": null,
      "outputs": [
        {
          "output_type": "stream",
          "name": "stdout",
          "text": [
            "The best fit alpha value is found out to be : {'alpha': 0.01}\n",
            "\n",
            "Using  {'alpha': 0.01}  the negative mean squared error is:  -0.029408608138141886\n"
          ]
        }
      ]
    },
    {
      "cell_type": "code",
      "metadata": {
        "id": "S46Fm0zpoR3e"
      },
      "source": [
        "y_pred_ridge = ridge_regressor.predict(X_test)"
      ],
      "execution_count": null,
      "outputs": []
    },
    {
      "cell_type": "code",
      "metadata": {
        "colab": {
          "base_uri": "https://localhost:8080/"
        },
        "id": "SQI1eHLyoUSv",
        "outputId": "9ad7e260-f29d-4678-b3c0-ca2a37af9271"
      },
      "source": [
        "MSE= mean_squared_error(10**(y_test), 10**(y_pred_ridge))\n",
        "print(\"MSE :\" , MSE)\n",
        "\n",
        "MAE= mean_absolute_error(10**(y_test), 10**(y_pred_ridge))\n",
        "print(\"MAE :\" ,MAE)\n",
        "\n",
        "RMSE= np.sqrt(MSE)\n",
        "print(\"RMSE :\" ,RMSE)\n",
        "\n",
        "r2= r2_score(10**(y_test), 10**(y_pred_ridge))\n",
        "print(\"R2 :\" ,r2)"
      ],
      "execution_count": null,
      "outputs": [
        {
          "output_type": "stream",
          "name": "stdout",
          "text": [
            "MSE : 61985423632.18315\n",
            "MAE : 145996.70255461292\n",
            "RMSE : 248968.72018826613\n",
            "R2 : 0.7582117095293778\n"
          ]
        }
      ]
    },
    {
      "cell_type": "code",
      "metadata": {
        "colab": {
          "base_uri": "https://localhost:8080/",
          "height": 573
        },
        "id": "EPtQFXyrADV_",
        "outputId": "82089871-a9f6-4ebf-c7ac-03d1cdb823a3"
      },
      "source": [
        "#Resuldual Analysis\n",
        "\n",
        "fig=plt.figure(figsize=(8,8))\n",
        "  \n",
        "sns.distplot((10**(y_test)- 10**(y_pred_ridge)),bins=20,color='r')\n",
        "\n",
        "#Plot Label\n",
        "fig.suptitle('Residual Analysis', fontsize = 20)   "
      ],
      "execution_count": null,
      "outputs": [
        {
          "output_type": "execute_result",
          "data": {
            "text/plain": [
              "Text(0.5, 0.98, 'Residual Analysis')"
            ]
          },
          "metadata": {},
          "execution_count": 140
        },
        {
          "output_type": "display_data",
          "data": {
            "text/plain": [
              "<Figure size 576x576 with 1 Axes>"
            ],
            "image/png": "[encoded data removed]"
          },
          "metadata": {
            "needs_background": "light"
          }
        }
      ]
    },
    {
      "cell_type": "markdown",
      "metadata": {
        "id": "YRskq_qFpEV4"
      },
      "source": [
        "# **Conclusion**\n",
        "\n",
        "\n",
        "\n",
        "---\n",
        "From above model we can conclude:\n",
        "\n",
        "*  Automatic vehicles fetch higher resale price compared to manual ones.\n",
        "*  Age of the vehicle seems to show negative correlation with selling price.\n",
        "* Past_Owners and Kms_Driven are showing very less correlation with selling price.\n",
        "*  Resale value of cars with Fuel type CNG is higher as comapre to other.\n",
        "* Average price of a car directly influences Selling Price prediction, both are highly correlated and here directly proportional to each other.\n",
        "\n"
      ]
    }
  ]
}